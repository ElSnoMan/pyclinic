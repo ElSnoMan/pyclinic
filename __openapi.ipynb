{
 "cells": [
  {
   "cell_type": "code",
   "execution_count": 1,
   "source": [
    "from tests import utils\n",
    "from pyclinic.openapi import OpenApi\n",
    "\n",
    "runner = OpenApi(utils.PETSTORE_OPENAPI_YAML)"
   ],
   "outputs": [
    {
     "output_type": "stream",
     "name": "stderr",
     "text": [
      "Variable {petId} was not found in the Variables provided\n"
     ]
    }
   ],
   "metadata": {}
  },
  {
   "cell_type": "code",
   "execution_count": 2,
   "source": [
    "runner.Pets.help()\n",
    "runner.Pets.create_a_pet.help()"
   ],
   "outputs": [
    {
     "output_type": "stream",
     "name": "stdout",
     "text": [
      "\n"
     ]
    },
    {
     "output_type": "display_data",
     "data": {
      "text/plain": [
       "\u001b[92m──────────────────────────────── \u001b[0m\u001b[1;32mFunction Names in Pets Path\u001b[0m\u001b[92m ────────────────────────────────\u001b[0m\n"
      ],
      "text/html": [
       "<pre style=\"white-space:pre;overflow-x:auto;line-height:normal;font-family:Menlo,'DejaVu Sans Mono',consolas,'Courier New',monospace\"><span style=\"color: #00ff00; text-decoration-color: #00ff00\">──────────────────────────────── </span><span style=\"color: #008000; text-decoration-color: #008000; font-weight: bold\">Function Names in Pets Path</span><span style=\"color: #00ff00; text-decoration-color: #00ff00\"> ────────────────────────────────</span>\n",
       "</pre>\n"
      ]
     },
     "metadata": {}
    },
    {
     "output_type": "display_data",
     "data": {
      "text/plain": [
       "\u001b[1;36m1\u001b[0m\u001b[37m     \u001b[0m\u001b[38;5;153mlist_all_pets\u001b[0m\n"
      ],
      "text/html": [
       "<pre style=\"white-space:pre;overflow-x:auto;line-height:normal;font-family:Menlo,'DejaVu Sans Mono',consolas,'Courier New',monospace\"><span style=\"color: #008080; text-decoration-color: #008080; font-weight: bold\">1</span><span style=\"color: #c0c0c0; text-decoration-color: #c0c0c0\">     </span><span style=\"color: #afd7ff; text-decoration-color: #afd7ff\">list_all_pets</span>\n",
       "</pre>\n"
      ]
     },
     "metadata": {}
    },
    {
     "output_type": "display_data",
     "data": {
      "text/plain": [
       "\u001b[1;36m2\u001b[0m\u001b[37m     \u001b[0m\u001b[38;5;153mcreate_a_pet\u001b[0m\n"
      ],
      "text/html": [
       "<pre style=\"white-space:pre;overflow-x:auto;line-height:normal;font-family:Menlo,'DejaVu Sans Mono',consolas,'Courier New',monospace\"><span style=\"color: #008080; text-decoration-color: #008080; font-weight: bold\">2</span><span style=\"color: #c0c0c0; text-decoration-color: #c0c0c0\">     </span><span style=\"color: #afd7ff; text-decoration-color: #afd7ff\">create_a_pet</span>\n",
       "</pre>\n"
      ]
     },
     "metadata": {}
    },
    {
     "output_type": "display_data",
     "data": {
      "text/plain": [
       "\n",
       "\u001b[1;4;38;5;220mExample Usage\u001b[0m\n"
      ],
      "text/html": [
       "<pre style=\"white-space:pre;overflow-x:auto;line-height:normal;font-family:Menlo,'DejaVu Sans Mono',consolas,'Courier New',monospace\">\n",
       "<span style=\"color: #ffd700; text-decoration-color: #ffd700; font-weight: bold; text-decoration: underline\">Example Usage</span>\n",
       "</pre>\n"
      ]
     },
     "metadata": {}
    },
    {
     "output_type": "display_data",
     "data": {
      "text/plain": [
       "\n",
       "response = \u001b[1;35mrunner.Pets.create_a_pet\u001b[0m\u001b[1m(\u001b[0m\u001b[1m)\u001b[0m\n"
      ],
      "text/html": [
       "<pre style=\"white-space:pre;overflow-x:auto;line-height:normal;font-family:Menlo,'DejaVu Sans Mono',consolas,'Courier New',monospace\">\n",
       "response = <span style=\"color: #800080; text-decoration-color: #800080; font-weight: bold\">runner.Pets.create_a_pet</span><span style=\"font-weight: bold\">()</span>\n",
       "</pre>\n"
      ]
     },
     "metadata": {}
    },
    {
     "output_type": "stream",
     "name": "stdout",
     "text": [
      "\n"
     ]
    },
    {
     "output_type": "display_data",
     "data": {
      "text/plain": [
       "\u001b[92m──────────────────────────── \u001b[0m\u001b[1;32mRequest Dictionary for create_a_pet\u001b[0m\u001b[92m ────────────────────────────\u001b[0m\n"
      ],
      "text/html": [
       "<pre style=\"white-space:pre;overflow-x:auto;line-height:normal;font-family:Menlo,'DejaVu Sans Mono',consolas,'Courier New',monospace\"><span style=\"color: #00ff00; text-decoration-color: #00ff00\">──────────────────────────── </span><span style=\"color: #008000; text-decoration-color: #008000; font-weight: bold\">Request Dictionary for create_a_pet</span><span style=\"color: #00ff00; text-decoration-color: #00ff00\"> ────────────────────────────</span>\n",
       "</pre>\n"
      ]
     },
     "metadata": {}
    },
    {
     "output_type": "display_data",
     "data": {
      "text/plain": [
       "\u001b[1m{\u001b[0m\u001b[32m'method'\u001b[0m: \u001b[32m'POST'\u001b[0m, \u001b[32m'url'\u001b[0m: \u001b[32m'http://petstore.swagger.io/v1/pets'\u001b[0m\u001b[1m}\u001b[0m\n"
      ],
      "text/html": [
       "<pre style=\"white-space:pre;overflow-x:auto;line-height:normal;font-family:Menlo,'DejaVu Sans Mono',consolas,'Courier New',monospace\"><span style=\"font-weight: bold\">{</span><span style=\"color: #008000; text-decoration-color: #008000\">'method'</span>: <span style=\"color: #008000; text-decoration-color: #008000\">'POST'</span>, <span style=\"color: #008000; text-decoration-color: #008000\">'url'</span>: <span style=\"color: #008000; text-decoration-color: #008000\">'http://petstore.swagger.io/v1/pets'</span><span style=\"font-weight: bold\">}</span>\n",
       "</pre>\n"
      ]
     },
     "metadata": {}
    }
   ],
   "metadata": {}
  },
  {
   "cell_type": "code",
   "execution_count": 4,
   "source": [
    "runner.show_variables()\n",
    "runner.show_folders()"
   ],
   "outputs": [
    {
     "output_type": "stream",
     "name": "stdout",
     "text": [
      "\n"
     ]
    },
    {
     "output_type": "display_data",
     "data": {
      "text/plain": [
       "\u001b[92m──────────────────── \u001b[0m\u001b[1;32mSwagger Petstore instantiated with these Variables\u001b[0m\u001b[92m ─────────────────────\u001b[0m\n"
      ],
      "text/html": [
       "<pre style=\"white-space:pre;overflow-x:auto;line-height:normal;font-family:Menlo,'DejaVu Sans Mono',consolas,'Courier New',monospace\"><span style=\"color: #00ff00; text-decoration-color: #00ff00\">──────────────────── </span><span style=\"color: #008000; text-decoration-color: #008000; font-weight: bold\">Swagger Petstore instantiated with these Variables</span><span style=\"color: #00ff00; text-decoration-color: #00ff00\"> ─────────────────────</span>\n",
       "</pre>\n"
      ]
     },
     "metadata": {}
    },
    {
     "output_type": "display_data",
     "data": {
      "text/plain": [
       "\u001b[1m{\u001b[0m\u001b[1m}\u001b[0m\n"
      ],
      "text/html": [
       "<pre style=\"white-space:pre;overflow-x:auto;line-height:normal;font-family:Menlo,'DejaVu Sans Mono',consolas,'Courier New',monospace\"><span style=\"font-weight: bold\">{}</span>\n",
       "</pre>\n"
      ]
     },
     "metadata": {}
    },
    {
     "output_type": "stream",
     "name": "stdout",
     "text": [
      "\n"
     ]
    },
    {
     "output_type": "display_data",
     "data": {
      "text/plain": [
       "\u001b[92m───────────── \u001b[0m\u001b[1;32mFolders \u001b[0m\u001b[1;32m(\u001b[0m\u001b[1;32maka Paths\u001b[0m\u001b[1;32m)\u001b[0m\u001b[1;32m found in Swagger Petstore Postman Collection\u001b[0m\u001b[92m ──────────────\u001b[0m\n"
      ],
      "text/html": [
       "<pre style=\"white-space:pre;overflow-x:auto;line-height:normal;font-family:Menlo,'DejaVu Sans Mono',consolas,'Courier New',monospace\"><span style=\"color: #00ff00; text-decoration-color: #00ff00\">───────────── </span><span style=\"color: #008000; text-decoration-color: #008000; font-weight: bold\">Folders (aka Paths) found in Swagger Petstore Postman Collection</span><span style=\"color: #00ff00; text-decoration-color: #00ff00\"> ──────────────</span>\n",
       "</pre>\n"
      ]
     },
     "metadata": {}
    },
    {
     "output_type": "display_data",
     "data": {
      "text/plain": [
       "\n",
       "\u001b[1;38;5;120mPets.\u001b[0m\n"
      ],
      "text/html": [
       "<pre style=\"white-space:pre;overflow-x:auto;line-height:normal;font-family:Menlo,'DejaVu Sans Mono',consolas,'Courier New',monospace\">\n",
       "<span style=\"color: #87ff87; text-decoration-color: #87ff87; font-weight: bold\">Pets.</span>\n",
       "</pre>\n"
      ]
     },
     "metadata": {}
    },
    {
     "output_type": "display_data",
     "data": {
      "text/plain": [
       "\u001b[38;5;153m \u001b[0m\u001b[38;5;153m       \u001b[0m\u001b[38;5;153mcreate_a_pet\u001b[0m\n"
      ],
      "text/html": [
       "<pre style=\"white-space:pre;overflow-x:auto;line-height:normal;font-family:Menlo,'DejaVu Sans Mono',consolas,'Courier New',monospace\"><span style=\"color: #afd7ff; text-decoration-color: #afd7ff\">        create_a_pet</span>\n",
       "</pre>\n"
      ]
     },
     "metadata": {}
    },
    {
     "output_type": "display_data",
     "data": {
      "text/plain": [
       "\u001b[38;5;153m \u001b[0m\u001b[38;5;153m       \u001b[0m\u001b[38;5;153mlist_all_pets\u001b[0m\n"
      ],
      "text/html": [
       "<pre style=\"white-space:pre;overflow-x:auto;line-height:normal;font-family:Menlo,'DejaVu Sans Mono',consolas,'Courier New',monospace\"><span style=\"color: #afd7ff; text-decoration-color: #afd7ff\">        list_all_pets</span>\n",
       "</pre>\n"
      ]
     },
     "metadata": {}
    },
    {
     "output_type": "display_data",
     "data": {
      "text/plain": [
       "\n",
       "\u001b[1;38;5;120mPetId.\u001b[0m\n"
      ],
      "text/html": [
       "<pre style=\"white-space:pre;overflow-x:auto;line-height:normal;font-family:Menlo,'DejaVu Sans Mono',consolas,'Courier New',monospace\">\n",
       "<span style=\"color: #87ff87; text-decoration-color: #87ff87; font-weight: bold\">PetId.</span>\n",
       "</pre>\n"
      ]
     },
     "metadata": {}
    },
    {
     "output_type": "display_data",
     "data": {
      "text/plain": [
       "\u001b[38;5;153m \u001b[0m\u001b[38;5;153m       \u001b[0m\u001b[38;5;153minfo_for_a_specific_pet\u001b[0m\n"
      ],
      "text/html": [
       "<pre style=\"white-space:pre;overflow-x:auto;line-height:normal;font-family:Menlo,'DejaVu Sans Mono',consolas,'Courier New',monospace\"><span style=\"color: #afd7ff; text-decoration-color: #afd7ff\">        info_for_a_specific_pet</span>\n",
       "</pre>\n"
      ]
     },
     "metadata": {}
    },
    {
     "output_type": "display_data",
     "data": {
      "text/plain": [
       "\n",
       "\u001b[1;4;38;5;220mExample Usage\u001b[0m\n"
      ],
      "text/html": [
       "<pre style=\"white-space:pre;overflow-x:auto;line-height:normal;font-family:Menlo,'DejaVu Sans Mono',consolas,'Courier New',monospace\">\n",
       "<span style=\"color: #ffd700; text-decoration-color: #ffd700; font-weight: bold; text-decoration: underline\">Example Usage</span>\n",
       "</pre>\n"
      ]
     },
     "metadata": {}
    },
    {
     "output_type": "display_data",
     "data": {
      "text/plain": [
       "\n",
       "response = \u001b[1;35mrunner.PetId.info_for_a_specific_pet\u001b[0m\u001b[1m(\u001b[0m\u001b[1m)\u001b[0m\n"
      ],
      "text/html": [
       "<pre style=\"white-space:pre;overflow-x:auto;line-height:normal;font-family:Menlo,'DejaVu Sans Mono',consolas,'Courier New',monospace\">\n",
       "response = <span style=\"color: #800080; text-decoration-color: #800080; font-weight: bold\">runner.PetId.info_for_a_specific_pet</span><span style=\"font-weight: bold\">()</span>\n",
       "</pre>\n"
      ]
     },
     "metadata": {}
    }
   ],
   "metadata": {}
  }
 ],
 "metadata": {
  "orig_nbformat": 4,
  "language_info": {
   "name": "python",
   "version": "3.9.1",
   "mimetype": "text/x-python",
   "codemirror_mode": {
    "name": "ipython",
    "version": 3
   },
   "pygments_lexer": "ipython3",
   "nbconvert_exporter": "python",
   "file_extension": ".py"
  },
  "kernelspec": {
   "name": "python3",
   "display_name": "Python 3.9.1 64-bit ('pyclinic-InKJn0l_-py3.9': poetry)"
  },
  "interpreter": {
   "hash": "dad341938d7c6fd83781c9ec84ca545ddf62307cc98c65e84dffc8916bb6fd08"
  }
 },
 "nbformat": 4,
 "nbformat_minor": 2
}