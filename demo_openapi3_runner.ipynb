{
 "cells": [
  {
   "cell_type": "code",
   "execution_count": 1,
   "source": [
    "\"\"\" 1. Export your OpenApi Spec file, then make an instance of the OpenApi runner. \"\"\"\n",
    "from pyclinic.openapi import OpenApi\n",
    "from rich import print\n",
    "\n",
    "collection_path = \"./tests/examples/petstore.openapi3.yaml\"\n",
    "runner = OpenApi(collection_path)"
   ],
   "outputs": [
    {
     "output_type": "stream",
     "name": "stderr",
     "text": [
      "Variable {petId} was not found in the Variables provided\n",
      "Variable {petId} was not found in the Variables provided\n",
      "Variable {petId} was not found in the Variables provided\n",
      "Variable {petId} was not found in the Variables provided\n",
      "Variable {orderId} was not found in the Variables provided\n",
      "Variable {orderId} was not found in the Variables provided\n",
      "Variable {username} was not found in the Variables provided\n",
      "Variable {username} was not found in the Variables provided\n",
      "Variable {username} was not found in the Variables provided\n"
     ]
    }
   ],
   "metadata": {}
  },
  {
   "cell_type": "code",
   "execution_count": 2,
   "source": [
    "\"\"\" 2. Did you see the warnings that were printed above?\n",
    "\n",
    "That's because there are variables, like {petId}, that exist in the Spec file but don't have values!\n",
    "So calling the functions as-is will fail.\n",
    "\n",
    "However, you can solve this by passing in User Variables when instantiating the OpenApi runner\n",
    "or when you call the functions. (We will cover this later in the notebook)\n",
    "\n",
    "But, for now, let's see which variables we _do_ have defined. \n",
    "\"\"\"\n",
    "runner.show_variables()"
   ],
   "outputs": [
    {
     "output_type": "stream",
     "name": "stdout",
     "text": [
      "\n"
     ]
    },
    {
     "output_type": "display_data",
     "data": {
      "text/plain": [
       "\u001b[92m──────────────────────────── \u001b[0m\u001b[1;32mUser Variables for Swagger Petstore\u001b[0m\u001b[92m ────────────────────────────\u001b[0m\n"
      ],
      "text/html": [
       "<pre style=\"white-space:pre;overflow-x:auto;line-height:normal;font-family:Menlo,'DejaVu Sans Mono',consolas,'Courier New',monospace\"><span style=\"color: #00ff00; text-decoration-color: #00ff00\">──────────────────────────── </span><span style=\"color: #008000; text-decoration-color: #008000; font-weight: bold\">User Variables for Swagger Petstore</span><span style=\"color: #00ff00; text-decoration-color: #00ff00\"> ────────────────────────────</span>\n",
       "</pre>\n"
      ]
     },
     "metadata": {}
    },
    {
     "output_type": "display_data",
     "data": {
      "text/plain": [
       "\u001b[1m{\u001b[0m\u001b[1m}\u001b[0m\n"
      ],
      "text/html": [
       "<pre style=\"white-space:pre;overflow-x:auto;line-height:normal;font-family:Menlo,'DejaVu Sans Mono',consolas,'Courier New',monospace\"><span style=\"font-weight: bold\">{}</span>\n",
       "</pre>\n"
      ]
     },
     "metadata": {}
    }
   ],
   "metadata": {}
  },
  {
   "cell_type": "code",
   "execution_count": 3,
   "source": [
    "\"\"\" 3. An empty dictionary means that there are zero variables defined...\n",
    "\n",
    "Let's see what folders and functions we have.\n",
    "\"\"\"\n",
    "runner.show_folders()"
   ],
   "outputs": [
    {
     "output_type": "stream",
     "name": "stdout",
     "text": [
      "\n"
     ]
    },
    {
     "output_type": "display_data",
     "data": {
      "text/plain": [
       "\u001b[92m──────────────────────────────── \u001b[0m\u001b[1;32mFolders in Swagger Petstore\u001b[0m\u001b[92m ────────────────────────────────\u001b[0m\n"
      ],
      "text/html": [
       "<pre style=\"white-space:pre;overflow-x:auto;line-height:normal;font-family:Menlo,'DejaVu Sans Mono',consolas,'Courier New',monospace\"><span style=\"color: #00ff00; text-decoration-color: #00ff00\">──────────────────────────────── </span><span style=\"color: #008000; text-decoration-color: #008000; font-weight: bold\">Folders in Swagger Petstore</span><span style=\"color: #00ff00; text-decoration-color: #00ff00\"> ────────────────────────────────</span>\n",
       "</pre>\n"
      ]
     },
     "metadata": {}
    },
    {
     "output_type": "display_data",
     "data": {
      "text/plain": [
       "\n",
       "\u001b[1;38;5;120mPet.\u001b[0m\n"
      ],
      "text/html": [
       "<pre style=\"white-space:pre;overflow-x:auto;line-height:normal;font-family:Menlo,'DejaVu Sans Mono',consolas,'Courier New',monospace\">\n",
       "<span style=\"color: #87ff87; text-decoration-color: #87ff87; font-weight: bold\">Pet.</span>\n",
       "</pre>\n"
      ]
     },
     "metadata": {}
    },
    {
     "output_type": "display_data",
     "data": {
      "text/plain": [
       "\u001b[38;5;153m \u001b[0m\u001b[38;5;153m       \u001b[0m\u001b[38;5;153madd_pet\u001b[0m\n"
      ],
      "text/html": [
       "<pre style=\"white-space:pre;overflow-x:auto;line-height:normal;font-family:Menlo,'DejaVu Sans Mono',consolas,'Courier New',monospace\"><span style=\"color: #afd7ff; text-decoration-color: #afd7ff\">        add_pet</span>\n",
       "</pre>\n"
      ]
     },
     "metadata": {}
    },
    {
     "output_type": "display_data",
     "data": {
      "text/plain": [
       "\u001b[38;5;153m \u001b[0m\u001b[38;5;153m       \u001b[0m\u001b[38;5;153mdelete_pet\u001b[0m\n"
      ],
      "text/html": [
       "<pre style=\"white-space:pre;overflow-x:auto;line-height:normal;font-family:Menlo,'DejaVu Sans Mono',consolas,'Courier New',monospace\"><span style=\"color: #afd7ff; text-decoration-color: #afd7ff\">        delete_pet</span>\n",
       "</pre>\n"
      ]
     },
     "metadata": {}
    },
    {
     "output_type": "display_data",
     "data": {
      "text/plain": [
       "\u001b[38;5;153m \u001b[0m\u001b[38;5;153m       \u001b[0m\u001b[38;5;153mfind_pets_by_status\u001b[0m\n"
      ],
      "text/html": [
       "<pre style=\"white-space:pre;overflow-x:auto;line-height:normal;font-family:Menlo,'DejaVu Sans Mono',consolas,'Courier New',monospace\"><span style=\"color: #afd7ff; text-decoration-color: #afd7ff\">        find_pets_by_status</span>\n",
       "</pre>\n"
      ]
     },
     "metadata": {}
    },
    {
     "output_type": "display_data",
     "data": {
      "text/plain": [
       "\u001b[38;5;153m \u001b[0m\u001b[38;5;153m       \u001b[0m\u001b[38;5;153mfind_pets_by_tags\u001b[0m\n"
      ],
      "text/html": [
       "<pre style=\"white-space:pre;overflow-x:auto;line-height:normal;font-family:Menlo,'DejaVu Sans Mono',consolas,'Courier New',monospace\"><span style=\"color: #afd7ff; text-decoration-color: #afd7ff\">        find_pets_by_tags</span>\n",
       "</pre>\n"
      ]
     },
     "metadata": {}
    },
    {
     "output_type": "display_data",
     "data": {
      "text/plain": [
       "\u001b[38;5;153m \u001b[0m\u001b[38;5;153m       \u001b[0m\u001b[38;5;153mget_pet_by_id\u001b[0m\n"
      ],
      "text/html": [
       "<pre style=\"white-space:pre;overflow-x:auto;line-height:normal;font-family:Menlo,'DejaVu Sans Mono',consolas,'Courier New',monospace\"><span style=\"color: #afd7ff; text-decoration-color: #afd7ff\">        get_pet_by_id</span>\n",
       "</pre>\n"
      ]
     },
     "metadata": {}
    },
    {
     "output_type": "display_data",
     "data": {
      "text/plain": [
       "\u001b[38;5;153m \u001b[0m\u001b[38;5;153m       \u001b[0m\u001b[38;5;153mupdate_pet\u001b[0m\n"
      ],
      "text/html": [
       "<pre style=\"white-space:pre;overflow-x:auto;line-height:normal;font-family:Menlo,'DejaVu Sans Mono',consolas,'Courier New',monospace\"><span style=\"color: #afd7ff; text-decoration-color: #afd7ff\">        update_pet</span>\n",
       "</pre>\n"
      ]
     },
     "metadata": {}
    },
    {
     "output_type": "display_data",
     "data": {
      "text/plain": [
       "\u001b[38;5;153m \u001b[0m\u001b[38;5;153m       \u001b[0m\u001b[38;5;153mupdate_pet_with_form\u001b[0m\n"
      ],
      "text/html": [
       "<pre style=\"white-space:pre;overflow-x:auto;line-height:normal;font-family:Menlo,'DejaVu Sans Mono',consolas,'Courier New',monospace\"><span style=\"color: #afd7ff; text-decoration-color: #afd7ff\">        update_pet_with_form</span>\n",
       "</pre>\n"
      ]
     },
     "metadata": {}
    },
    {
     "output_type": "display_data",
     "data": {
      "text/plain": [
       "\u001b[38;5;153m \u001b[0m\u001b[38;5;153m       \u001b[0m\u001b[38;5;153mupload_file\u001b[0m\n"
      ],
      "text/html": [
       "<pre style=\"white-space:pre;overflow-x:auto;line-height:normal;font-family:Menlo,'DejaVu Sans Mono',consolas,'Courier New',monospace\"><span style=\"color: #afd7ff; text-decoration-color: #afd7ff\">        upload_file</span>\n",
       "</pre>\n"
      ]
     },
     "metadata": {}
    },
    {
     "output_type": "display_data",
     "data": {
      "text/plain": [
       "\n",
       "\u001b[1;38;5;120mStore.\u001b[0m\n"
      ],
      "text/html": [
       "<pre style=\"white-space:pre;overflow-x:auto;line-height:normal;font-family:Menlo,'DejaVu Sans Mono',consolas,'Courier New',monospace\">\n",
       "<span style=\"color: #87ff87; text-decoration-color: #87ff87; font-weight: bold\">Store.</span>\n",
       "</pre>\n"
      ]
     },
     "metadata": {}
    },
    {
     "output_type": "display_data",
     "data": {
      "text/plain": [
       "\u001b[38;5;153m \u001b[0m\u001b[38;5;153m       \u001b[0m\u001b[38;5;153mdelete_order\u001b[0m\n"
      ],
      "text/html": [
       "<pre style=\"white-space:pre;overflow-x:auto;line-height:normal;font-family:Menlo,'DejaVu Sans Mono',consolas,'Courier New',monospace\"><span style=\"color: #afd7ff; text-decoration-color: #afd7ff\">        delete_order</span>\n",
       "</pre>\n"
      ]
     },
     "metadata": {}
    },
    {
     "output_type": "display_data",
     "data": {
      "text/plain": [
       "\u001b[38;5;153m \u001b[0m\u001b[38;5;153m       \u001b[0m\u001b[38;5;153mget_inventory\u001b[0m\n"
      ],
      "text/html": [
       "<pre style=\"white-space:pre;overflow-x:auto;line-height:normal;font-family:Menlo,'DejaVu Sans Mono',consolas,'Courier New',monospace\"><span style=\"color: #afd7ff; text-decoration-color: #afd7ff\">        get_inventory</span>\n",
       "</pre>\n"
      ]
     },
     "metadata": {}
    },
    {
     "output_type": "display_data",
     "data": {
      "text/plain": [
       "\u001b[38;5;153m \u001b[0m\u001b[38;5;153m       \u001b[0m\u001b[38;5;153mget_order_by_id\u001b[0m\n"
      ],
      "text/html": [
       "<pre style=\"white-space:pre;overflow-x:auto;line-height:normal;font-family:Menlo,'DejaVu Sans Mono',consolas,'Courier New',monospace\"><span style=\"color: #afd7ff; text-decoration-color: #afd7ff\">        get_order_by_id</span>\n",
       "</pre>\n"
      ]
     },
     "metadata": {}
    },
    {
     "output_type": "display_data",
     "data": {
      "text/plain": [
       "\u001b[38;5;153m \u001b[0m\u001b[38;5;153m       \u001b[0m\u001b[38;5;153mplace_order\u001b[0m\n"
      ],
      "text/html": [
       "<pre style=\"white-space:pre;overflow-x:auto;line-height:normal;font-family:Menlo,'DejaVu Sans Mono',consolas,'Courier New',monospace\"><span style=\"color: #afd7ff; text-decoration-color: #afd7ff\">        place_order</span>\n",
       "</pre>\n"
      ]
     },
     "metadata": {}
    },
    {
     "output_type": "display_data",
     "data": {
      "text/plain": [
       "\n",
       "\u001b[1;38;5;120mUser.\u001b[0m\n"
      ],
      "text/html": [
       "<pre style=\"white-space:pre;overflow-x:auto;line-height:normal;font-family:Menlo,'DejaVu Sans Mono',consolas,'Courier New',monospace\">\n",
       "<span style=\"color: #87ff87; text-decoration-color: #87ff87; font-weight: bold\">User.</span>\n",
       "</pre>\n"
      ]
     },
     "metadata": {}
    },
    {
     "output_type": "display_data",
     "data": {
      "text/plain": [
       "\u001b[38;5;153m \u001b[0m\u001b[38;5;153m       \u001b[0m\u001b[38;5;153mcreate_user\u001b[0m\n"
      ],
      "text/html": [
       "<pre style=\"white-space:pre;overflow-x:auto;line-height:normal;font-family:Menlo,'DejaVu Sans Mono',consolas,'Courier New',monospace\"><span style=\"color: #afd7ff; text-decoration-color: #afd7ff\">        create_user</span>\n",
       "</pre>\n"
      ]
     },
     "metadata": {}
    },
    {
     "output_type": "display_data",
     "data": {
      "text/plain": [
       "\u001b[38;5;153m \u001b[0m\u001b[38;5;153m       \u001b[0m\u001b[38;5;153mcreate_users_with_array_input\u001b[0m\n"
      ],
      "text/html": [
       "<pre style=\"white-space:pre;overflow-x:auto;line-height:normal;font-family:Menlo,'DejaVu Sans Mono',consolas,'Courier New',monospace\"><span style=\"color: #afd7ff; text-decoration-color: #afd7ff\">        create_users_with_array_input</span>\n",
       "</pre>\n"
      ]
     },
     "metadata": {}
    },
    {
     "output_type": "display_data",
     "data": {
      "text/plain": [
       "\u001b[38;5;153m \u001b[0m\u001b[38;5;153m       \u001b[0m\u001b[38;5;153mcreate_users_with_list_input\u001b[0m\n"
      ],
      "text/html": [
       "<pre style=\"white-space:pre;overflow-x:auto;line-height:normal;font-family:Menlo,'DejaVu Sans Mono',consolas,'Courier New',monospace\"><span style=\"color: #afd7ff; text-decoration-color: #afd7ff\">        create_users_with_list_input</span>\n",
       "</pre>\n"
      ]
     },
     "metadata": {}
    },
    {
     "output_type": "display_data",
     "data": {
      "text/plain": [
       "\u001b[38;5;153m \u001b[0m\u001b[38;5;153m       \u001b[0m\u001b[38;5;153mdelete_user\u001b[0m\n"
      ],
      "text/html": [
       "<pre style=\"white-space:pre;overflow-x:auto;line-height:normal;font-family:Menlo,'DejaVu Sans Mono',consolas,'Courier New',monospace\"><span style=\"color: #afd7ff; text-decoration-color: #afd7ff\">        delete_user</span>\n",
       "</pre>\n"
      ]
     },
     "metadata": {}
    },
    {
     "output_type": "display_data",
     "data": {
      "text/plain": [
       "\u001b[38;5;153m \u001b[0m\u001b[38;5;153m       \u001b[0m\u001b[38;5;153mget_user_by_name\u001b[0m\n"
      ],
      "text/html": [
       "<pre style=\"white-space:pre;overflow-x:auto;line-height:normal;font-family:Menlo,'DejaVu Sans Mono',consolas,'Courier New',monospace\"><span style=\"color: #afd7ff; text-decoration-color: #afd7ff\">        get_user_by_name</span>\n",
       "</pre>\n"
      ]
     },
     "metadata": {}
    },
    {
     "output_type": "display_data",
     "data": {
      "text/plain": [
       "\u001b[38;5;153m \u001b[0m\u001b[38;5;153m       \u001b[0m\u001b[38;5;153mlogin_user\u001b[0m\n"
      ],
      "text/html": [
       "<pre style=\"white-space:pre;overflow-x:auto;line-height:normal;font-family:Menlo,'DejaVu Sans Mono',consolas,'Courier New',monospace\"><span style=\"color: #afd7ff; text-decoration-color: #afd7ff\">        login_user</span>\n",
       "</pre>\n"
      ]
     },
     "metadata": {}
    },
    {
     "output_type": "display_data",
     "data": {
      "text/plain": [
       "\u001b[38;5;153m \u001b[0m\u001b[38;5;153m       \u001b[0m\u001b[38;5;153mlogout_user\u001b[0m\n"
      ],
      "text/html": [
       "<pre style=\"white-space:pre;overflow-x:auto;line-height:normal;font-family:Menlo,'DejaVu Sans Mono',consolas,'Courier New',monospace\"><span style=\"color: #afd7ff; text-decoration-color: #afd7ff\">        logout_user</span>\n",
       "</pre>\n"
      ]
     },
     "metadata": {}
    },
    {
     "output_type": "display_data",
     "data": {
      "text/plain": [
       "\u001b[38;5;153m \u001b[0m\u001b[38;5;153m       \u001b[0m\u001b[38;5;153mupdate_user\u001b[0m\n"
      ],
      "text/html": [
       "<pre style=\"white-space:pre;overflow-x:auto;line-height:normal;font-family:Menlo,'DejaVu Sans Mono',consolas,'Courier New',monospace\"><span style=\"color: #afd7ff; text-decoration-color: #afd7ff\">        update_user</span>\n",
       "</pre>\n"
      ]
     },
     "metadata": {}
    },
    {
     "output_type": "display_data",
     "data": {
      "text/plain": [
       "\n",
       "\u001b[1;4;38;5;220mExample Usage\u001b[0m\n"
      ],
      "text/html": [
       "<pre style=\"white-space:pre;overflow-x:auto;line-height:normal;font-family:Menlo,'DejaVu Sans Mono',consolas,'Courier New',monospace\">\n",
       "<span style=\"color: #ffd700; text-decoration-color: #ffd700; font-weight: bold; text-decoration: underline\">Example Usage</span>\n",
       "</pre>\n"
      ]
     },
     "metadata": {}
    },
    {
     "output_type": "display_data",
     "data": {
      "text/plain": [
       "\n",
       "response = \u001b[1;35mrunner.User.delete_user\u001b[0m\u001b[1m(\u001b[0m\u001b[1m)\u001b[0m\n"
      ],
      "text/html": [
       "<pre style=\"white-space:pre;overflow-x:auto;line-height:normal;font-family:Menlo,'DejaVu Sans Mono',consolas,'Courier New',monospace\">\n",
       "response = <span style=\"color: #800080; text-decoration-color: #800080; font-weight: bold\">runner.User.delete_user</span><span style=\"font-weight: bold\">()</span>\n",
       "</pre>\n"
      ]
     },
     "metadata": {}
    }
   ],
   "metadata": {}
  },
  {
   "cell_type": "code",
   "execution_count": 5,
   "source": [
    "\"\"\" 4. We have a lot and they're ready to be used!\n",
    "\n",
    "A few things to note:\n",
    "    - Each class name (aka folder like \"Pet\") shows which functions belong to it\n",
    "        * This makes it easy to execute doing something like runner.User.delete_user()\n",
    "        * Just like it shows in the Example Usage\n",
    "    \n",
    "    - You'll get errors if you try to use a function that doesn't exist in a folder\n",
    "    \n",
    "    * We're about to see an error because we're missing the {petId} variable...\n",
    "\"\"\"\n",
    "# runner.Pet.add_a_new_pet() # This will fail because add_a_new_pet is not defined in the Pet folder\n",
    "\n",
    "response = runner.Pet.get_pet_by_id()\n",
    "print(\"STATUS CODE:\", response.status_code)\n",
    "print(response.text)"
   ],
   "outputs": [
    {
     "output_type": "display_data",
     "data": {
      "text/plain": [
       "STATUS CODE: \u001b[1;36m404\u001b[0m\n"
      ],
      "text/html": [
       "<pre style=\"white-space:pre;overflow-x:auto;line-height:normal;font-family:Menlo,'DejaVu Sans Mono',consolas,'Courier New',monospace\">STATUS CODE: <span style=\"color: #008080; text-decoration-color: #008080; font-weight: bold\">404</span>\n",
       "</pre>\n"
      ]
     },
     "metadata": {}
    },
    {
     "output_type": "display_data",
     "data": {
      "text/plain": [
       "\u001b[1m{\u001b[0m\u001b[32m\"code\"\u001b[0m:\u001b[1;36m404\u001b[0m,\u001b[32m\"type\"\u001b[0m:\u001b[32m\"unknown\"\u001b[0m,\u001b[32m\"message\"\u001b[0m:\u001b[32m\"java.lang.NumberFormatException: For input string: \u001b[0m\n",
       "\u001b[32m\\\"\u001b[0m\u001b[32m{\u001b[0m\u001b[32mpetId\u001b[0m\u001b[32m}\u001b[0m\u001b[32m\\\"\"\u001b[0m\u001b[1m}\u001b[0m\n"
      ],
      "text/html": [
       "<pre style=\"white-space:pre;overflow-x:auto;line-height:normal;font-family:Menlo,'DejaVu Sans Mono',consolas,'Courier New',monospace\"><span style=\"font-weight: bold\">{</span><span style=\"color: #008000; text-decoration-color: #008000\">\"code\"</span>:<span style=\"color: #008080; text-decoration-color: #008080; font-weight: bold\">404</span>,<span style=\"color: #008000; text-decoration-color: #008000\">\"type\"</span>:<span style=\"color: #008000; text-decoration-color: #008000\">\"unknown\"</span>,<span style=\"color: #008000; text-decoration-color: #008000\">\"message\"</span>:<span style=\"color: #008000; text-decoration-color: #008000\">\"java.lang.NumberFormatException: For input string: </span>\n",
       "<span style=\"color: #008000; text-decoration-color: #008000\">\\\"{petId}\\\"\"</span><span style=\"font-weight: bold\">}</span>\n",
       "</pre>\n"
      ]
     },
     "metadata": {}
    }
   ],
   "metadata": {}
  },
  {
   "cell_type": "code",
   "execution_count": 7,
   "source": [
    "\"\"\" 5. Notice how we're working with a response. This comes from the requests library.\n",
    "\n",
    "Using type hinting, we will get more intellisense. Now we can work with the response a lot more.\n",
    "\n",
    "Let's use an auto-generated function that we know will work without needing variables.\n",
    "\"\"\"\n",
    "from requests import Response\n",
    "\n",
    "payload = {\n",
    "        \"id\": 0,\n",
    "        \"category\": {\"id\": 0, \"name\": \"string\"},\n",
    "        \"name\": \"doggie\",\n",
    "        \"photoUrls\": [\"string\"],\n",
    "        \"tags\": [{\"id\": 0, \"name\": \"string\"}],\n",
    "        \"status\": \"available\",\n",
    "    }\n",
    "response = runner.Pet.add_pet(json=payload)\n",
    "pet_id = response.json()[\"id\"]\n",
    "print(response.json())"
   ],
   "outputs": [
    {
     "output_type": "display_data",
     "data": {
      "text/plain": [
       "\u001b[1m{\u001b[0m\n",
       "    \u001b[32m'id'\u001b[0m: \u001b[1;36m9223372036854775807\u001b[0m,\n",
       "    \u001b[32m'category'\u001b[0m: \u001b[1m{\u001b[0m\u001b[32m'id'\u001b[0m: \u001b[1;36m0\u001b[0m, \u001b[32m'name'\u001b[0m: \u001b[32m'string'\u001b[0m\u001b[1m}\u001b[0m,\n",
       "    \u001b[32m'name'\u001b[0m: \u001b[32m'doggie'\u001b[0m,\n",
       "    \u001b[32m'photoUrls'\u001b[0m: \u001b[1m[\u001b[0m\u001b[32m'string'\u001b[0m\u001b[1m]\u001b[0m,\n",
       "    \u001b[32m'tags'\u001b[0m: \u001b[1m[\u001b[0m\u001b[1m{\u001b[0m\u001b[32m'id'\u001b[0m: \u001b[1;36m0\u001b[0m, \u001b[32m'name'\u001b[0m: \u001b[32m'string'\u001b[0m\u001b[1m}\u001b[0m\u001b[1m]\u001b[0m,\n",
       "    \u001b[32m'status'\u001b[0m: \u001b[32m'available'\u001b[0m\n",
       "\u001b[1m}\u001b[0m\n"
      ],
      "text/html": [
       "<pre style=\"white-space:pre;overflow-x:auto;line-height:normal;font-family:Menlo,'DejaVu Sans Mono',consolas,'Courier New',monospace\"><span style=\"font-weight: bold\">{</span>\n",
       "    <span style=\"color: #008000; text-decoration-color: #008000\">'id'</span>: <span style=\"color: #008080; text-decoration-color: #008080; font-weight: bold\">9223372036854775807</span>,\n",
       "    <span style=\"color: #008000; text-decoration-color: #008000\">'category'</span>: <span style=\"font-weight: bold\">{</span><span style=\"color: #008000; text-decoration-color: #008000\">'id'</span>: <span style=\"color: #008080; text-decoration-color: #008080; font-weight: bold\">0</span>, <span style=\"color: #008000; text-decoration-color: #008000\">'name'</span>: <span style=\"color: #008000; text-decoration-color: #008000\">'string'</span><span style=\"font-weight: bold\">}</span>,\n",
       "    <span style=\"color: #008000; text-decoration-color: #008000\">'name'</span>: <span style=\"color: #008000; text-decoration-color: #008000\">'doggie'</span>,\n",
       "    <span style=\"color: #008000; text-decoration-color: #008000\">'photoUrls'</span>: <span style=\"font-weight: bold\">[</span><span style=\"color: #008000; text-decoration-color: #008000\">'string'</span><span style=\"font-weight: bold\">]</span>,\n",
       "    <span style=\"color: #008000; text-decoration-color: #008000\">'tags'</span>: <span style=\"font-weight: bold\">[{</span><span style=\"color: #008000; text-decoration-color: #008000\">'id'</span>: <span style=\"color: #008080; text-decoration-color: #008080; font-weight: bold\">0</span>, <span style=\"color: #008000; text-decoration-color: #008000\">'name'</span>: <span style=\"color: #008000; text-decoration-color: #008000\">'string'</span><span style=\"font-weight: bold\">}]</span>,\n",
       "    <span style=\"color: #008000; text-decoration-color: #008000\">'status'</span>: <span style=\"color: #008000; text-decoration-color: #008000\">'available'</span>\n",
       "<span style=\"font-weight: bold\">}</span>\n",
       "</pre>\n"
      ]
     },
     "metadata": {}
    }
   ],
   "metadata": {}
  },
  {
   "cell_type": "code",
   "execution_count": 8,
   "source": [
    "\"\"\" 6. AMAZING! Let's try finding a pet again, but this time we'll pass in a valid {petId}. \"\"\"\n",
    "response = runner.Pet.get_pet_by_id({\"petId\": pet_id})\n",
    "print(\"STATUS CODE:\", response.status_code)\n",
    "print(response.json())"
   ],
   "outputs": [
    {
     "output_type": "display_data",
     "data": {
      "text/plain": [
       "STATUS CODE: \u001b[1;36m200\u001b[0m\n"
      ],
      "text/html": [
       "<pre style=\"white-space:pre;overflow-x:auto;line-height:normal;font-family:Menlo,'DejaVu Sans Mono',consolas,'Courier New',monospace\">STATUS CODE: <span style=\"color: #008080; text-decoration-color: #008080; font-weight: bold\">200</span>\n",
       "</pre>\n"
      ]
     },
     "metadata": {}
    },
    {
     "output_type": "display_data",
     "data": {
      "text/plain": [
       "\u001b[1m{\u001b[0m\n",
       "    \u001b[32m'id'\u001b[0m: \u001b[1;36m9223372036854775807\u001b[0m,\n",
       "    \u001b[32m'name'\u001b[0m: \u001b[32m'siyaan'\u001b[0m,\n",
       "    \u001b[32m'photoUrls'\u001b[0m: \u001b[1m[\u001b[0m\u001b[1m]\u001b[0m,\n",
       "    \u001b[32m'tags'\u001b[0m: \u001b[1m[\u001b[0m\u001b[1m]\u001b[0m,\n",
       "    \u001b[32m'status'\u001b[0m: \u001b[32m'available'\u001b[0m\n",
       "\u001b[1m}\u001b[0m\n"
      ],
      "text/html": [
       "<pre style=\"white-space:pre;overflow-x:auto;line-height:normal;font-family:Menlo,'DejaVu Sans Mono',consolas,'Courier New',monospace\"><span style=\"font-weight: bold\">{</span>\n",
       "    <span style=\"color: #008000; text-decoration-color: #008000\">'id'</span>: <span style=\"color: #008080; text-decoration-color: #008080; font-weight: bold\">9223372036854775807</span>,\n",
       "    <span style=\"color: #008000; text-decoration-color: #008000\">'name'</span>: <span style=\"color: #008000; text-decoration-color: #008000\">'siyaan'</span>,\n",
       "    <span style=\"color: #008000; text-decoration-color: #008000\">'photoUrls'</span>: <span style=\"font-weight: bold\">[]</span>,\n",
       "    <span style=\"color: #008000; text-decoration-color: #008000\">'tags'</span>: <span style=\"font-weight: bold\">[]</span>,\n",
       "    <span style=\"color: #008000; text-decoration-color: #008000\">'status'</span>: <span style=\"color: #008000; text-decoration-color: #008000\">'available'</span>\n",
       "<span style=\"font-weight: bold\">}</span>\n",
       "</pre>\n"
      ]
     },
     "metadata": {}
    }
   ],
   "metadata": {}
  },
  {
   "cell_type": "code",
   "execution_count": 9,
   "source": [
    "\"\"\" 7. SUCCESS! If you wanted this to be an Automated Test with pytest, it would look something like this: \"\"\"\n",
    "def test_create_pet():\n",
    "    payload = {\n",
    "        \"id\": 0,\n",
    "        \"category\": {\"id\": 0, \"name\": \"string\"},\n",
    "        \"name\": \"doggie\",\n",
    "        \"photoUrls\": [\"string\"],\n",
    "        \"tags\": [{\"id\": 0, \"name\": \"string\"}],\n",
    "        \"status\": \"available\",\n",
    "    }\n",
    "    runner = OpenApi(collection_path)\n",
    "    response = runner.Pet.add_pet(json=payload)\n",
    "\n",
    "    assert response.ok\n",
    "    assert response.json()[\"id\"] > 0\n",
    "    assert response.json()[\"status\"] == \"available\""
   ],
   "outputs": [],
   "metadata": {}
  },
  {
   "cell_type": "code",
   "execution_count": 10,
   "source": [
    "\"\"\" 8. User Variables\n",
    "\n",
    "There are two places where you can pass in User Variables:\n",
    "\n",
    "1. When instantiating the OpenApi runner. This will set the variables for all functions in the runner.\n",
    "2. When calling the functions. This only sets the variables for that function.\n",
    "\n",
    "* Variables are a flat dictionary of key-value pairs that _are_ case-sensitive.\n",
    "\"\"\"\n",
    "\n",
    "user_variables = {\"USERNAME\": \"Carlos Kidman\"}\n",
    "runner = OpenApi(collection_path, user_variables)\n",
    "runner.show_variables()"
   ],
   "outputs": [
    {
     "output_type": "stream",
     "name": "stderr",
     "text": [
      "Variable {petId} was not found in the Variables provided\n",
      "Variable {petId} was not found in the Variables provided\n",
      "Variable {petId} was not found in the Variables provided\n",
      "Variable {petId} was not found in the Variables provided\n",
      "Variable {orderId} was not found in the Variables provided\n",
      "Variable {orderId} was not found in the Variables provided\n",
      "Variable {username} was not found in the Variables provided\n",
      "Variable {username} was not found in the Variables provided\n",
      "Variable {username} was not found in the Variables provided\n"
     ]
    },
    {
     "output_type": "stream",
     "name": "stdout",
     "text": [
      "\n"
     ]
    },
    {
     "output_type": "display_data",
     "data": {
      "text/plain": [
       "\u001b[92m──────────────────────────── \u001b[0m\u001b[1;32mUser Variables for Swagger Petstore\u001b[0m\u001b[92m ────────────────────────────\u001b[0m\n"
      ],
      "text/html": [
       "<pre style=\"white-space:pre;overflow-x:auto;line-height:normal;font-family:Menlo,'DejaVu Sans Mono',consolas,'Courier New',monospace\"><span style=\"color: #00ff00; text-decoration-color: #00ff00\">──────────────────────────── </span><span style=\"color: #008000; text-decoration-color: #008000; font-weight: bold\">User Variables for Swagger Petstore</span><span style=\"color: #00ff00; text-decoration-color: #00ff00\"> ────────────────────────────</span>\n",
       "</pre>\n"
      ]
     },
     "metadata": {}
    },
    {
     "output_type": "display_data",
     "data": {
      "text/plain": [
       "\u001b[1m{\u001b[0m\u001b[32m'USERNAME'\u001b[0m: \u001b[32m'Carlos Kidman'\u001b[0m\u001b[1m}\u001b[0m\n"
      ],
      "text/html": [
       "<pre style=\"white-space:pre;overflow-x:auto;line-height:normal;font-family:Menlo,'DejaVu Sans Mono',consolas,'Courier New',monospace\"><span style=\"font-weight: bold\">{</span><span style=\"color: #008000; text-decoration-color: #008000\">'USERNAME'</span>: <span style=\"color: #008000; text-decoration-color: #008000\">'Carlos Kidman'</span><span style=\"font-weight: bold\">}</span>\n",
       "</pre>\n"
      ]
     },
     "metadata": {}
    }
   ],
   "metadata": {}
  },
  {
   "cell_type": "code",
   "execution_count": 12,
   "source": [
    "\"\"\" 9. Variables at the function level \"\"\"\n",
    "\n",
    "# Each function has a .help() method to display what the request looks like before being sent\n",
    "runner.Pet.get_pet_by_id.help()\n",
    "\n",
    "# It shows that {petId} is a variable that we need to pass in\n",
    "runner.Pet.get_pet_by_id({\"petId\": 123})\n",
    "\n",
    "# No pet with the ID of 123 exists, so we get a 404, but that's expected!"
   ],
   "outputs": [
    {
     "output_type": "stream",
     "name": "stdout",
     "text": [
      "\n"
     ]
    },
    {
     "output_type": "display_data",
     "data": {
      "text/plain": [
       "\u001b[92m───────────────────────────── \u001b[0m\u001b[1;32mRequest to Send for get_pet_by_id\u001b[0m\u001b[92m ─────────────────────────────\u001b[0m\n"
      ],
      "text/html": [
       "<pre style=\"white-space:pre;overflow-x:auto;line-height:normal;font-family:Menlo,'DejaVu Sans Mono',consolas,'Courier New',monospace\"><span style=\"color: #00ff00; text-decoration-color: #00ff00\">───────────────────────────── </span><span style=\"color: #008000; text-decoration-color: #008000; font-weight: bold\">Request to Send for get_pet_by_id</span><span style=\"color: #00ff00; text-decoration-color: #00ff00\"> ─────────────────────────────</span>\n",
       "</pre>\n"
      ]
     },
     "metadata": {}
    },
    {
     "output_type": "display_data",
     "data": {
      "text/plain": [
       "\u001b[1m{\u001b[0m\u001b[32m'method'\u001b[0m: \u001b[32m'GET'\u001b[0m, \u001b[32m'url'\u001b[0m: \u001b[32m'https://petstore.swagger.io/v2/pet/\u001b[0m\u001b[32m{\u001b[0m\u001b[32mpetId\u001b[0m\u001b[32m}\u001b[0m\u001b[32m'\u001b[0m\u001b[1m}\u001b[0m\n"
      ],
      "text/html": [
       "<pre style=\"white-space:pre;overflow-x:auto;line-height:normal;font-family:Menlo,'DejaVu Sans Mono',consolas,'Courier New',monospace\"><span style=\"font-weight: bold\">{</span><span style=\"color: #008000; text-decoration-color: #008000\">'method'</span>: <span style=\"color: #008000; text-decoration-color: #008000\">'GET'</span>, <span style=\"color: #008000; text-decoration-color: #008000\">'url'</span>: <span style=\"color: #008000; text-decoration-color: #008000\">'https://petstore.swagger.io/v2/pet/{petId}'</span><span style=\"font-weight: bold\">}</span>\n",
       "</pre>\n"
      ]
     },
     "metadata": {}
    },
    {
     "output_type": "execute_result",
     "data": {
      "text/plain": [
       "<Response [404]>"
      ]
     },
     "metadata": {},
     "execution_count": 12
    }
   ],
   "metadata": {}
  },
  {
   "cell_type": "code",
   "execution_count": 18,
   "source": [
    "\"\"\" 10. Create your own Service functions to extend or add functionality and power! \"\"\"\n",
    "\n",
    "def get_sold_count_for_today():\n",
    "    response = runner.Store.get_inventory()\n",
    "    inventory = response.json()\n",
    "    return inventory.get(\"sold\", 0)\n",
    "\n",
    "\n",
    "sold = get_sold_count_for_today()\n",
    "print(\"PETS SOLD TODAY:\", sold)"
   ],
   "outputs": [
    {
     "output_type": "display_data",
     "data": {
      "text/plain": [
       "PETS SOLD TODAY: \u001b[1;36m60\u001b[0m\n"
      ],
      "text/html": [
       "<pre style=\"white-space:pre;overflow-x:auto;line-height:normal;font-family:Menlo,'DejaVu Sans Mono',consolas,'Courier New',monospace\">PETS SOLD TODAY: <span style=\"color: #008080; text-decoration-color: #008080; font-weight: bold\">60</span>\n",
       "</pre>\n"
      ]
     },
     "metadata": {}
    }
   ],
   "metadata": {}
  }
 ],
 "metadata": {
  "orig_nbformat": 4,
  "language_info": {
   "name": "python",
   "version": "3.9.1",
   "mimetype": "text/x-python",
   "codemirror_mode": {
    "name": "ipython",
    "version": 3
   },
   "pygments_lexer": "ipython3",
   "nbconvert_exporter": "python",
   "file_extension": ".py"
  },
  "kernelspec": {
   "name": "python3",
   "display_name": "Python 3.9.1 64-bit ('pyclinic-InKJn0l_-py3.9': poetry)"
  },
  "interpreter": {
   "hash": "dad341938d7c6fd83781c9ec84ca545ddf62307cc98c65e84dffc8916bb6fd08"
  }
 },
 "nbformat": 4,
 "nbformat_minor": 2
}