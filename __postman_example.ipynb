{
 "cells": [
  {
   "cell_type": "code",
   "execution_count": 4,
   "source": [
    "\"\"\" Load the Collection \"\"\"\n",
    "\n",
    "from tests import utils\n",
    "from pyclinic import postman\n",
    "\n",
    "\n",
    "PATH = utils.build_example_path('big-petstore.postman_collection.json')\n",
    "COLLECTION = postman.load_postman_collection_from_file(PATH)\n",
    "print('Loaded collection from:', PATH)"
   ],
   "outputs": [
    {
     "output_type": "stream",
     "name": "stdout",
     "text": [
      "Loaded collection from: /Users/carlos/dev/pyclinic/tests/examples/big-petstore.postman_collection.json\n"
     ]
    }
   ],
   "metadata": {}
  },
  {
   "cell_type": "code",
   "execution_count": 5,
   "source": [
    "\"\"\" Map Response Bodies to their respective folders \"\"\"\n",
    "from pprint import pprint\n",
    "\n",
    "folders = postman.map_response_bodies_to_folders(COLLECTION)\n",
    "print(\"Folders found:\", len(folders))\n",
    "pprint(folders)"
   ],
   "outputs": [
    {
     "output_type": "stream",
     "name": "stdout",
     "text": [
      "{'order': {'Place an order for a pet': [{'complete': False,\n",
      "                                         'id': 37825264,\n",
      "                                         'petId': -30415642,\n",
      "                                         'quantity': -90693701,\n",
      "                                         'shipDate': '1978-05-03T20:38:32.224Z',\n",
      "                                         'status': 'approved'},\n",
      "                                        '']},\n",
      " 'pet': {'Add a new pet to the store': [''],\n",
      "         'Finds Pets by status': [[{'category': {'id': 20825425,\n",
      "                                                 'name': 'laborum mollit '\n",
      "                                                         'Excepteur aliquip'},\n",
      "                                    'id': -95924333,\n",
      "                                    'name': 'doggie',\n",
      "                                    'photoUrls': ['in ex irure',\n",
      "                                                  'aliqua deserunt voluptate '\n",
      "                                                  'cillum dolore'],\n",
      "                                    'status': 'sold',\n",
      "                                    'tags': [{'id': 77254294, 'name': 'tempor'},\n",
      "                                             {'id': 59852950,\n",
      "                                              'name': 'ad commodo'}]},\n",
      "                                   {'category': {'id': 81957072,\n",
      "                                                 'name': 'veniam ut Ut '\n",
      "                                                         'Excepteur deserunt'},\n",
      "                                    'id': 36270036,\n",
      "                                    'name': 'doggie',\n",
      "                                    'photoUrls': ['et sunt',\n",
      "                                                  'esse est ea magna'],\n",
      "                                    'status': 'available',\n",
      "                                    'tags': [{'id': -4695914,\n",
      "                                              'name': 'Lorem ullamco '\n",
      "                                                      'reprehenderit qui '\n",
      "                                                      'nostrud'},\n",
      "                                             {'id': -3032857,\n",
      "                                              'name': 'consequat vel'}]}],\n",
      "                                  ''],\n",
      "         'Finds Pets by tags': [[{'category': {'id': 20825425,\n",
      "                                               'name': 'laborum mollit '\n",
      "                                                       'Excepteur aliquip'},\n",
      "                                  'id': -95924333,\n",
      "                                  'name': 'doggie',\n",
      "                                  'photoUrls': ['in ex irure',\n",
      "                                                'aliqua deserunt voluptate '\n",
      "                                                'cillum dolore'],\n",
      "                                  'status': 'sold',\n",
      "                                  'tags': [{'id': 77254294, 'name': 'tempor'},\n",
      "                                           {'id': 59852950,\n",
      "                                            'name': 'ad commodo'}]},\n",
      "                                 {'category': {'id': 81957072,\n",
      "                                               'name': 'veniam ut Ut Excepteur '\n",
      "                                                       'deserunt'},\n",
      "                                  'id': 36270036,\n",
      "                                  'name': 'doggie',\n",
      "                                  'photoUrls': ['et sunt', 'esse est ea magna'],\n",
      "                                  'status': 'available',\n",
      "                                  'tags': [{'id': -4695914,\n",
      "                                            'name': 'Lorem ullamco '\n",
      "                                                    'reprehenderit qui '\n",
      "                                                    'nostrud'},\n",
      "                                           {'id': -3032857,\n",
      "                                            'name': 'consequat vel'}]}],\n",
      "                                ''],\n",
      "         'Update an existing pet': ['', '', '']},\n",
      " 'store': {'Returns pet inventories by status': [{}]},\n",
      " 'user': {'Create user': [''],\n",
      "          'Creates list of users with given input array': [''],\n",
      "          'Logs out current logged in user session': [''],\n",
      "          'Logs user into the system': ['magna reprehenderit commodo deserunt '\n",
      "                                        'et',\n",
      "                                        '']},\n",
      " '{order Id}': {'Delete purchase order by ID': ['', ''],\n",
      "                'Find purchase order by ID': [{'complete': False,\n",
      "                                               'id': 37825264,\n",
      "                                               'petId': -30415642,\n",
      "                                               'quantity': -90693701,\n",
      "                                               'shipDate': '1978-05-03T20:38:32.224Z',\n",
      "                                               'status': 'approved'},\n",
      "                                              '',\n",
      "                                              '']},\n",
      " '{pet Id}': {'Deletes a pet': ['', ''],\n",
      "              'Find pet by ID': [{'category': {'id': 3560188,\n",
      "                                               'name': 'nostrud proident '\n",
      "                                                       'cupidatat '},\n",
      "                                  'id': 77978947,\n",
      "                                  'name': 'doggie',\n",
      "                                  'photoUrls': ['',\n",
      "                                                'consequat irure in '\n",
      "                                                'exercitation'],\n",
      "                                  'status': 'sold',\n",
      "                                  'tags': [{'id': 69573007,\n",
      "                                            'name': 'enim sint ex esse'},\n",
      "                                           {'id': 44807431,\n",
      "                                            'name': 'irure proident'}]},\n",
      "                                 '',\n",
      "                                 ''],\n",
      "              'Updates a pet in the store with form data': [''],\n",
      "              'uploads an image': [{'code': 50385259,\n",
      "                                    'message': 'commodo sunt enim non est',\n",
      "                                    'type': 'Duis cillum amet'}]},\n",
      " '{username}': {'Delete user': ['', ''],\n",
      "                'Get user by user name': [{'email': 'cillum qui eiusmod ad '\n",
      "                                                    'mollit',\n",
      "                                           'firstName': 'minim',\n",
      "                                           'id': -15327366,\n",
      "                                           'lastName': 'ut aliquip adipisicing '\n",
      "                                                       'dolore',\n",
      "                                           'password': 'in consequat '\n",
      "                                                       'adipisicing cillum',\n",
      "                                           'phone': 'dolor irure esse',\n",
      "                                           'userStatus': -59075543,\n",
      "                                           'username': 'voluptate Lorem qui'},\n",
      "                                          '',\n",
      "                                          ''],\n",
      "                'Updated user': ['', '']}}\n"
     ]
    }
   ],
   "metadata": {}
  },
  {
   "cell_type": "code",
   "execution_count": 3,
   "source": [
    "\"\"\" OPTION 3: Create a *_model.py file for each Folder \"\"\"\n",
    "import shutil\n",
    "\n",
    "shutil.rmtree('./models', ignore_errors=True)\n",
    "postman.write_collection_folders_to_files(folders)"
   ],
   "outputs": [
    {
     "output_type": "execute_result",
     "data": {
      "text/plain": [
       "['./models',\n",
       " './models/deck_of_cards_root_model.py',\n",
       " './models/folder_1_model.py',\n",
       " './models/folder_1.1_model.py',\n",
       " './models/folder_2_model.py']"
      ]
     },
     "metadata": {},
     "execution_count": 3
    }
   ],
   "metadata": {}
  }
 ],
 "metadata": {
  "orig_nbformat": 4,
  "language_info": {
   "name": "python",
   "version": "3.9.1",
   "mimetype": "text/x-python",
   "codemirror_mode": {
    "name": "ipython",
    "version": 3
   },
   "pygments_lexer": "ipython3",
   "nbconvert_exporter": "python",
   "file_extension": ".py"
  },
  "kernelspec": {
   "name": "python3",
   "display_name": "Python 3.9.1 64-bit ('test-services-InKJn0l_-py3.9': poetry)"
  },
  "interpreter": {
   "hash": "1bc63af97a360218d18508eb1ecf26843bc39ef2105ee91bb49b9050f298bbfa"
  }
 },
 "nbformat": 4,
 "nbformat_minor": 2
}