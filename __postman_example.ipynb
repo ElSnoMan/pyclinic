{
 "cells": [
  {
   "cell_type": "code",
   "execution_count": 1,
   "source": [
    "import os\n",
    "from jsonpath_ng import jsonpath, parse\n",
    "from pyclinic.model_parser import json_to_model, write_model_to_file, add_model_to_file\n",
    "from tests import utils\n",
    "from pyclinic import postman\n",
    "from pprint import pprint\n",
    "\n",
    "\"\"\" Load the Collection \"\"\"\n",
    "\n",
    "PATH = utils.build_example_path('petstore.postman_collection.json')\n",
    "COLLECTION = postman.load_postman_collection_from_file(PATH)\n",
    "print('Loaded collection from:', PATH)"
   ],
   "outputs": [
    {
     "output_type": "stream",
     "name": "stdout",
     "text": [
      "Loaded collection from: /Users/carlos/dev/pyclinic/tests/examples/petstore.postman_collection.json\n"
     ]
    }
   ],
   "metadata": {}
  },
  {
   "cell_type": "code",
   "execution_count": 2,
   "source": [
    "\"\"\" Find the Response Bodies \"\"\"\n",
    "BODIES = postman.find_response_bodies(COLLECTION)\n",
    "pprint(BODIES)"
   ],
   "outputs": [
    {
     "output_type": "stream",
     "name": "stdout",
     "text": [
      "{'pets': {'Create a pet': ['',\n",
      "                           {'code': 44276405,\n",
      "                            'message': 'exercitation cupidatat magna labore'}],\n",
      "          'Info for a specific pet': [{'id': 1388437,\n",
      "                                       'name': 'et Ut esse cillum',\n",
      "                                       'tag': 'sunt officia enim'},\n",
      "                                      {'code': 44276405,\n",
      "                                       'message': 'exercitation cupidatat '\n",
      "                                                  'magna labore'}],\n",
      "          'List all pets': [[{'id': 46523866,\n",
      "                              'name': 'Lorem sunt cillum officia',\n",
      "                              'tag': 'voluptate'},\n",
      "                             {'id': -43853497,\n",
      "                              'name': 'sint irure ea velit officia',\n",
      "                              'tag': 'Lorem ad'}],\n",
      "                            {'code': 44276405,\n",
      "                             'message': 'exercitation cupidatat magna '\n",
      "                                        'labore'}]}}\n"
     ]
    }
   ],
   "metadata": {}
  },
  {
   "cell_type": "code",
   "execution_count": 4,
   "source": [
    "\"\"\" OPTION 2: Create a *_model.py file for each Response Body.\n",
    "\n",
    "How can we map the Response Body to its respective Request name?\n",
    "\"\"\"\n",
    "import os\n",
    "import shutil\n",
    "\n",
    "shutil.rmtree('./models', ignore_errors=True)\n",
    "os.mkdir('./models')\n",
    "\n",
    "for key, value in BODIES['pets'].items():\n",
    "    models = [json_to_model(body) for body in list(filter(None, value))]\n",
    "    for model in models:\n",
    "        name = '_'.join(key.lower().split())\n",
    "        filename = f'./models/{name}_model.py'\n",
    "        postman.write_model_to_file(filename, model)\n",
    "\n",
    "# names = [match.value for match in parse('folders[*].item[*].name').find(collection.dict())]"
   ],
   "outputs": [],
   "metadata": {}
  }
 ],
 "metadata": {
  "orig_nbformat": 4,
  "language_info": {
   "name": "python",
   "version": "3.9.1",
   "mimetype": "text/x-python",
   "codemirror_mode": {
    "name": "ipython",
    "version": 3
   },
   "pygments_lexer": "ipython3",
   "nbconvert_exporter": "python",
   "file_extension": ".py"
  },
  "kernelspec": {
   "name": "python3",
   "display_name": "Python 3.9.1 64-bit ('test-services-InKJn0l_-py3.9': poetry)"
  },
  "interpreter": {
   "hash": "1bc63af97a360218d18508eb1ecf26843bc39ef2105ee91bb49b9050f298bbfa"
  }
 },
 "nbformat": 4,
 "nbformat_minor": 2
}