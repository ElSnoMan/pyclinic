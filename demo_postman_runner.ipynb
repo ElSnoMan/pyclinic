{
 "cells": [
  {
   "cell_type": "code",
   "execution_count": 1,
   "source": [
    "\"\"\" 1. Export your Postman Collection, then make an instance of the Postman runner. \"\"\"\n",
    "from pyclinic.postman import Postman\n",
    "from rich import print\n",
    "\n",
    "collection_path = \"./tests/examples/deckofcards.postman_collection.json\"\n",
    "runner = Postman(collection_path)"
   ],
   "outputs": [
    {
     "output_type": "stream",
     "name": "stderr",
     "text": [
      "http://deckofcardsapi.com/api/deck/{{deck_id}}/shuffle/ => Variable deck_id not found in collection, environment, or global variables.\n",
      "http://deckofcardsapi.com/api/deck/{{deck_id}}/draw/?count=2 => Variable deck_id not found in collection, environment, or global variables.\n",
      "http://deckofcardsapi.com/api/deck/{{deck_id}}/draw/?count=2 => Variable deck_id not found in collection, environment, or global variables.\n",
      "http://deckofcardsapi.com/api/deck/{{deck_id}}/shuffle/ => Variable deck_id not found in collection, environment, or global variables.\n",
      "http://deckofcardsapi.com/api/deck/{{deck_id}}/pile/{{pile_name}}/list/ => Variable deck_id not found in collection, environment, or global variables.\n",
      "http://deckofcardsapi.com/api/deck/{{deck_id}}/pile/{{pile_name}}/list/ => Variable pile_name not found in collection, environment, or global variables.\n",
      "http://deckofcardsapi.com/api/deck/{{deck_id}}/pile/{{pile_name}}/list/ => Variable deck_id not found in collection, environment, or global variables.\n",
      "http://deckofcardsapi.com/api/deck/{{deck_id}}/pile/{{pile_name}}/list/ => Variable pile_name not found in collection, environment, or global variables.\n"
     ]
    }
   ],
   "metadata": {}
  },
  {
   "cell_type": "code",
   "execution_count": 2,
   "source": [
    "\"\"\" 2. Did you see the warnings that were printed above?\n",
    "\n",
    "That's because there are variables, like {{deck_id}}, that are not defined in the collection!\n",
    "So calling the functions as-is will fail... You should consider when, where and how you use variables in Postman to solve this.\n",
    "\n",
    "But, let's see which variables we _do_ have defined. \n",
    "\"\"\"\n",
    "runner.show_variables()"
   ],
   "outputs": [
    {
     "output_type": "stream",
     "name": "stdout",
     "text": [
      "\n"
     ]
    },
    {
     "output_type": "display_data",
     "data": {
      "text/plain": [
       "\u001b[92m────────────────────── \u001b[0m\u001b[1;32mDeck of Cards instantiated with these Variables\u001b[0m\u001b[92m ──────────────────────\u001b[0m\n"
      ],
      "text/html": [
       "<pre style=\"white-space:pre;overflow-x:auto;line-height:normal;font-family:Menlo,'DejaVu Sans Mono',consolas,'Courier New',monospace\"><span style=\"color: #00ff00; text-decoration-color: #00ff00\">────────────────────── </span><span style=\"color: #008000; text-decoration-color: #008000; font-weight: bold\">Deck of Cards instantiated with these Variables</span><span style=\"color: #00ff00; text-decoration-color: #00ff00\"> ──────────────────────</span>\n",
       "</pre>\n"
      ]
     },
     "metadata": {}
    },
    {
     "output_type": "display_data",
     "data": {
      "text/plain": [
       "\u001b[1m{\u001b[0m\u001b[1m}\u001b[0m\n"
      ],
      "text/html": [
       "<pre style=\"white-space:pre;overflow-x:auto;line-height:normal;font-family:Menlo,'DejaVu Sans Mono',consolas,'Courier New',monospace\"><span style=\"font-weight: bold\">{}</span>\n",
       "</pre>\n"
      ]
     },
     "metadata": {}
    }
   ],
   "metadata": {}
  },
  {
   "cell_type": "code",
   "execution_count": 3,
   "source": [
    "\"\"\" 3. An empty dictionary means that there are zero variables defined...\n",
    "\n",
    "Let's see what folders and functions we have.\n",
    "\"\"\"\n",
    "runner.show_folders()"
   ],
   "outputs": [
    {
     "output_type": "stream",
     "name": "stdout",
     "text": [
      "\n"
     ]
    },
    {
     "output_type": "display_data",
     "data": {
      "text/plain": [
       "\u001b[92m───────────────────── \u001b[0m\u001b[1;32mFolders found in Deck of Cards Postman Collection\u001b[0m\u001b[92m ─────────────────────\u001b[0m\n"
      ],
      "text/html": [
       "<pre style=\"white-space:pre;overflow-x:auto;line-height:normal;font-family:Menlo,'DejaVu Sans Mono',consolas,'Courier New',monospace\"><span style=\"color: #00ff00; text-decoration-color: #00ff00\">───────────────────── </span><span style=\"color: #008000; text-decoration-color: #008000; font-weight: bold\">Folders found in Deck of Cards Postman Collection</span><span style=\"color: #00ff00; text-decoration-color: #00ff00\"> ─────────────────────</span>\n",
       "</pre>\n"
      ]
     },
     "metadata": {}
    },
    {
     "output_type": "display_data",
     "data": {
      "text/plain": [
       "\n",
       "\u001b[1;38;5;120m*Root.\u001b[0m\n"
      ],
      "text/html": [
       "<pre style=\"white-space:pre;overflow-x:auto;line-height:normal;font-family:Menlo,'DejaVu Sans Mono',consolas,'Courier New',monospace\">\n",
       "<span style=\"color: #87ff87; text-decoration-color: #87ff87; font-weight: bold\">*Root.</span>\n",
       "</pre>\n"
      ]
     },
     "metadata": {}
    },
    {
     "output_type": "display_data",
     "data": {
      "text/plain": [
       "\u001b[38;5;153m \u001b[0m\u001b[38;5;153m       \u001b[0m\u001b[38;5;153mcreate_shuffled_deck\u001b[0m\n"
      ],
      "text/html": [
       "<pre style=\"white-space:pre;overflow-x:auto;line-height:normal;font-family:Menlo,'DejaVu Sans Mono',consolas,'Courier New',monospace\"><span style=\"color: #afd7ff; text-decoration-color: #afd7ff\">        create_shuffled_deck</span>\n",
       "</pre>\n"
      ]
     },
     "metadata": {}
    },
    {
     "output_type": "display_data",
     "data": {
      "text/plain": [
       "\u001b[38;5;153m \u001b[0m\u001b[38;5;153m       \u001b[0m\u001b[38;5;153mdraw_cards\u001b[0m\n"
      ],
      "text/html": [
       "<pre style=\"white-space:pre;overflow-x:auto;line-height:normal;font-family:Menlo,'DejaVu Sans Mono',consolas,'Courier New',monospace\"><span style=\"color: #afd7ff; text-decoration-color: #afd7ff\">        draw_cards</span>\n",
       "</pre>\n"
      ]
     },
     "metadata": {}
    },
    {
     "output_type": "display_data",
     "data": {
      "text/plain": [
       "\u001b[38;5;153m \u001b[0m\u001b[38;5;153m       \u001b[0m\u001b[38;5;153mlist_cards_in_piles\u001b[0m\n"
      ],
      "text/html": [
       "<pre style=\"white-space:pre;overflow-x:auto;line-height:normal;font-family:Menlo,'DejaVu Sans Mono',consolas,'Courier New',monospace\"><span style=\"color: #afd7ff; text-decoration-color: #afd7ff\">        list_cards_in_piles</span>\n",
       "</pre>\n"
      ]
     },
     "metadata": {}
    },
    {
     "output_type": "display_data",
     "data": {
      "text/plain": [
       "\u001b[38;5;153m \u001b[0m\u001b[38;5;153m       \u001b[0m\u001b[38;5;153mreshuffle_deck\u001b[0m\n"
      ],
      "text/html": [
       "<pre style=\"white-space:pre;overflow-x:auto;line-height:normal;font-family:Menlo,'DejaVu Sans Mono',consolas,'Courier New',monospace\"><span style=\"color: #afd7ff; text-decoration-color: #afd7ff\">        reshuffle_deck</span>\n",
       "</pre>\n"
      ]
     },
     "metadata": {}
    },
    {
     "output_type": "display_data",
     "data": {
      "text/plain": [
       "\n",
       "\u001b[1;38;5;120mFolder1.\u001b[0m\n"
      ],
      "text/html": [
       "<pre style=\"white-space:pre;overflow-x:auto;line-height:normal;font-family:Menlo,'DejaVu Sans Mono',consolas,'Courier New',monospace\">\n",
       "<span style=\"color: #87ff87; text-decoration-color: #87ff87; font-weight: bold\">Folder1.</span>\n",
       "</pre>\n"
      ]
     },
     "metadata": {}
    },
    {
     "output_type": "display_data",
     "data": {
      "text/plain": [
       "\u001b[38;5;153m \u001b[0m\u001b[38;5;153m       \u001b[0m\u001b[38;5;153mreshuffle_deck\u001b[0m\n"
      ],
      "text/html": [
       "<pre style=\"white-space:pre;overflow-x:auto;line-height:normal;font-family:Menlo,'DejaVu Sans Mono',consolas,'Courier New',monospace\"><span style=\"color: #afd7ff; text-decoration-color: #afd7ff\">        reshuffle_deck</span>\n",
       "</pre>\n"
      ]
     },
     "metadata": {}
    },
    {
     "output_type": "display_data",
     "data": {
      "text/plain": [
       "\n",
       "\u001b[1;38;5;120mFolder11.\u001b[0m\n"
      ],
      "text/html": [
       "<pre style=\"white-space:pre;overflow-x:auto;line-height:normal;font-family:Menlo,'DejaVu Sans Mono',consolas,'Courier New',monospace\">\n",
       "<span style=\"color: #87ff87; text-decoration-color: #87ff87; font-weight: bold\">Folder11.</span>\n",
       "</pre>\n"
      ]
     },
     "metadata": {}
    },
    {
     "output_type": "display_data",
     "data": {
      "text/plain": [
       "\u001b[38;5;153m \u001b[0m\u001b[38;5;153m       \u001b[0m\u001b[38;5;153mdraw_cards\u001b[0m\n"
      ],
      "text/html": [
       "<pre style=\"white-space:pre;overflow-x:auto;line-height:normal;font-family:Menlo,'DejaVu Sans Mono',consolas,'Courier New',monospace\"><span style=\"color: #afd7ff; text-decoration-color: #afd7ff\">        draw_cards</span>\n",
       "</pre>\n"
      ]
     },
     "metadata": {}
    },
    {
     "output_type": "display_data",
     "data": {
      "text/plain": [
       "\n",
       "\u001b[1;38;5;120mFolder2.\u001b[0m\n"
      ],
      "text/html": [
       "<pre style=\"white-space:pre;overflow-x:auto;line-height:normal;font-family:Menlo,'DejaVu Sans Mono',consolas,'Courier New',monospace\">\n",
       "<span style=\"color: #87ff87; text-decoration-color: #87ff87; font-weight: bold\">Folder2.</span>\n",
       "</pre>\n"
      ]
     },
     "metadata": {}
    },
    {
     "output_type": "display_data",
     "data": {
      "text/plain": [
       "\u001b[38;5;153m \u001b[0m\u001b[38;5;153m       \u001b[0m\u001b[38;5;153mlist_cards_in_piles\u001b[0m\n"
      ],
      "text/html": [
       "<pre style=\"white-space:pre;overflow-x:auto;line-height:normal;font-family:Menlo,'DejaVu Sans Mono',consolas,'Courier New',monospace\"><span style=\"color: #afd7ff; text-decoration-color: #afd7ff\">        list_cards_in_piles</span>\n",
       "</pre>\n"
      ]
     },
     "metadata": {}
    },
    {
     "output_type": "display_data",
     "data": {
      "text/plain": [
       "\n",
       "\u001b[1;4;38;5;220mExample Usage\u001b[0m\n"
      ],
      "text/html": [
       "<pre style=\"white-space:pre;overflow-x:auto;line-height:normal;font-family:Menlo,'DejaVu Sans Mono',consolas,'Courier New',monospace\">\n",
       "<span style=\"color: #ffd700; text-decoration-color: #ffd700; font-weight: bold; text-decoration: underline\">Example Usage</span>\n",
       "</pre>\n"
      ]
     },
     "metadata": {}
    },
    {
     "output_type": "display_data",
     "data": {
      "text/plain": [
       "\n",
       "response = \u001b[1;35mrunner.Folder2.list_cards_in_piles\u001b[0m\u001b[1m(\u001b[0m\u001b[1m)\u001b[0m\n"
      ],
      "text/html": [
       "<pre style=\"white-space:pre;overflow-x:auto;line-height:normal;font-family:Menlo,'DejaVu Sans Mono',consolas,'Courier New',monospace\">\n",
       "response = <span style=\"color: #800080; text-decoration-color: #800080; font-weight: bold\">runner.Folder2.list_cards_in_piles</span><span style=\"font-weight: bold\">()</span>\n",
       "</pre>\n"
      ]
     },
     "metadata": {}
    }
   ],
   "metadata": {}
  },
  {
   "cell_type": "code",
   "execution_count": 4,
   "source": [
    "\"\"\" 4. We have a lot and they're ready to be used!\n",
    "\n",
    "A few things to note:\n",
    "    - The Root folder has all of the functions available since it's the top-level\n",
    "        * However, notice how create_shuffled_deck is only defined at the Root, just like in the Postman Collection\n",
    "    \n",
    "    - In Postman, Folder11 was actually called Folder 1.1 and was a subfolder of Folder 1\n",
    "        * To make things easier to work with, we flatten all the folders and normalize the names\n",
    "\n",
    "    - Each other folder shows which functions belong to it\n",
    "        * This makes it easy to execute doing something like runner.Folder2.list_cards_in_piles()\n",
    "        * Just like it shows in the Example Usage\n",
    "    \n",
    "    - You'll get errors if you try to use a function that doesn't exist in a folder\n",
    "        * We're about to see an error because we're missing the {{deck_id}} variable...\n",
    "\"\"\"\n",
    "# runner.Folder11.list_cards_in_piles() # This will fail because list_cards_in_piles is not defined in Folder11\n",
    "response = runner.Folder11.draw_cards()\n",
    "print(\"STATUS CODE:\", response.status_code)\n",
    "print(response.text)"
   ],
   "outputs": [
    {
     "output_type": "display_data",
     "data": {
      "text/plain": [
       "STATUS CODE: \u001b[1;36m404\u001b[0m\n"
      ],
      "text/html": [
       "<pre style=\"white-space:pre;overflow-x:auto;line-height:normal;font-family:Menlo,'DejaVu Sans Mono',consolas,'Courier New',monospace\">STATUS CODE: <span style=\"color: #008080; text-decoration-color: #008080; font-weight: bold\">404</span>\n",
       "</pre>\n"
      ]
     },
     "metadata": {}
    },
    {
     "output_type": "display_data",
     "data": {
      "text/plain": [
       "\n",
       "\u001b[1m<\u001b[0m\u001b[39m!doctype html\u001b[0m\u001b[1m>\u001b[0m\n",
       "\u001b[1m<\u001b[0m\u001b[1;95mhtml\u001b[0m\u001b[39m \u001b[0m\u001b[33mlang\u001b[0m\u001b[39m=\u001b[0m\u001b[32m\"en\"\u001b[0m\u001b[1m>\u001b[0m\n",
       "\u001b[1m<\u001b[0m\u001b[1;95mhead\u001b[0m\u001b[1m>\u001b[0m\n",
       "  \u001b[1m<\u001b[0m\u001b[1;95mtitle\u001b[0m\u001b[1m>\u001b[0mNot Found\u001b[1m<\u001b[0m\u001b[35m/\u001b[0m\u001b[95mtitle\u001b[0m\u001b[1m>\u001b[0m\n",
       "\u001b[1m<\u001b[0m\u001b[35m/\u001b[0m\u001b[95mhead\u001b[0m\u001b[1m>\u001b[0m\n",
       "\u001b[1m<\u001b[0m\u001b[1;95mbody\u001b[0m\u001b[1m>\u001b[0m\n",
       "  \u001b[1m<\u001b[0m\u001b[1;95mh1\u001b[0m\u001b[1m>\u001b[0mNot Found\u001b[1m<\u001b[0m\u001b[35m/\u001b[0m\u001b[95mh1\u001b[0m\u001b[1m>\u001b[0m\u001b[1m<\u001b[0m\u001b[1;95mp\u001b[0m\u001b[1m>\u001b[0mThe requested resource was not found on this server.\u001b[1m<\u001b[0m\u001b[35m/\u001b[0m\u001b[95mp\u001b[0m\u001b[1m>\u001b[0m\n",
       "\u001b[1m<\u001b[0m\u001b[35m/\u001b[0m\u001b[95mbody\u001b[0m\u001b[1m>\u001b[0m\n",
       "\u001b[1m<\u001b[0m\u001b[35m/\u001b[0m\u001b[95mhtml\u001b[0m\u001b[1m>\u001b[0m\n",
       "\n"
      ],
      "text/html": [
       "<pre style=\"white-space:pre;overflow-x:auto;line-height:normal;font-family:Menlo,'DejaVu Sans Mono',consolas,'Courier New',monospace\">\n",
       "<span style=\"font-weight: bold\">&lt;</span><span style=\"color: #000000; text-decoration-color: #000000\">!doctype html</span><span style=\"font-weight: bold\">&gt;</span>\n",
       "<span style=\"font-weight: bold\">&lt;</span><span style=\"color: #ff00ff; text-decoration-color: #ff00ff; font-weight: bold\">html</span><span style=\"color: #000000; text-decoration-color: #000000\"> </span><span style=\"color: #808000; text-decoration-color: #808000\">lang</span><span style=\"color: #000000; text-decoration-color: #000000\">=</span><span style=\"color: #008000; text-decoration-color: #008000\">\"en\"</span><span style=\"font-weight: bold\">&gt;</span>\n",
       "<span style=\"font-weight: bold\">&lt;</span><span style=\"color: #ff00ff; text-decoration-color: #ff00ff; font-weight: bold\">head</span><span style=\"font-weight: bold\">&gt;</span>\n",
       "  <span style=\"font-weight: bold\">&lt;</span><span style=\"color: #ff00ff; text-decoration-color: #ff00ff; font-weight: bold\">title</span><span style=\"font-weight: bold\">&gt;</span>Not Found<span style=\"font-weight: bold\">&lt;</span><span style=\"color: #800080; text-decoration-color: #800080\">/</span><span style=\"color: #ff00ff; text-decoration-color: #ff00ff\">title</span><span style=\"font-weight: bold\">&gt;</span>\n",
       "<span style=\"font-weight: bold\">&lt;</span><span style=\"color: #800080; text-decoration-color: #800080\">/</span><span style=\"color: #ff00ff; text-decoration-color: #ff00ff\">head</span><span style=\"font-weight: bold\">&gt;</span>\n",
       "<span style=\"font-weight: bold\">&lt;</span><span style=\"color: #ff00ff; text-decoration-color: #ff00ff; font-weight: bold\">body</span><span style=\"font-weight: bold\">&gt;</span>\n",
       "  <span style=\"font-weight: bold\">&lt;</span><span style=\"color: #ff00ff; text-decoration-color: #ff00ff; font-weight: bold\">h1</span><span style=\"font-weight: bold\">&gt;</span>Not Found<span style=\"font-weight: bold\">&lt;</span><span style=\"color: #800080; text-decoration-color: #800080\">/</span><span style=\"color: #ff00ff; text-decoration-color: #ff00ff\">h1</span><span style=\"font-weight: bold\">&gt;&lt;</span><span style=\"color: #ff00ff; text-decoration-color: #ff00ff; font-weight: bold\">p</span><span style=\"font-weight: bold\">&gt;</span>The requested resource was not found on this server.<span style=\"font-weight: bold\">&lt;</span><span style=\"color: #800080; text-decoration-color: #800080\">/</span><span style=\"color: #ff00ff; text-decoration-color: #ff00ff\">p</span><span style=\"font-weight: bold\">&gt;</span>\n",
       "<span style=\"font-weight: bold\">&lt;</span><span style=\"color: #800080; text-decoration-color: #800080\">/</span><span style=\"color: #ff00ff; text-decoration-color: #ff00ff\">body</span><span style=\"font-weight: bold\">&gt;</span>\n",
       "<span style=\"font-weight: bold\">&lt;</span><span style=\"color: #800080; text-decoration-color: #800080\">/</span><span style=\"color: #ff00ff; text-decoration-color: #ff00ff\">html</span><span style=\"font-weight: bold\">&gt;</span>\n",
       "\n",
       "</pre>\n"
      ]
     },
     "metadata": {}
    }
   ],
   "metadata": {}
  },
  {
   "cell_type": "code",
   "execution_count": 5,
   "source": [
    "\"\"\" 5. Notice how we're working with a response. This comes from the requests library.\n",
    "\n",
    "Using type hinting, we will get more intellisense. Now we can work with the response a lot more.\n",
    "\n",
    "Let's use an auto-generated function that we know will work without needing variables.\n",
    "\"\"\"\n",
    "from requests import Response\n",
    "\n",
    "response: Response = runner.Root.create_shuffled_deck()\n",
    "print(response.json())"
   ],
   "outputs": [
    {
     "output_type": "display_data",
     "data": {
      "text/plain": [
       "\u001b[1m{\u001b[0m\u001b[32m'success'\u001b[0m: \u001b[3;92mTrue\u001b[0m, \u001b[32m'deck_id'\u001b[0m: \u001b[32m'74il47d7ba3r'\u001b[0m, \u001b[32m'remaining'\u001b[0m: \u001b[1;36m52\u001b[0m, \u001b[32m'shuffled'\u001b[0m: \u001b[3;92mTrue\u001b[0m\u001b[1m}\u001b[0m\n"
      ],
      "text/html": [
       "<pre style=\"white-space:pre;overflow-x:auto;line-height:normal;font-family:Menlo,'DejaVu Sans Mono',consolas,'Courier New',monospace\"><span style=\"font-weight: bold\">{</span><span style=\"color: #008000; text-decoration-color: #008000\">'success'</span>: <span style=\"color: #00ff00; text-decoration-color: #00ff00; font-style: italic\">True</span>, <span style=\"color: #008000; text-decoration-color: #008000\">'deck_id'</span>: <span style=\"color: #008000; text-decoration-color: #008000\">'74il47d7ba3r'</span>, <span style=\"color: #008000; text-decoration-color: #008000\">'remaining'</span>: <span style=\"color: #008080; text-decoration-color: #008080; font-weight: bold\">52</span>, <span style=\"color: #008000; text-decoration-color: #008000\">'shuffled'</span>: <span style=\"color: #00ff00; text-decoration-color: #00ff00; font-style: italic\">True</span><span style=\"font-weight: bold\">}</span>\n",
       "</pre>\n"
      ]
     },
     "metadata": {}
    }
   ],
   "metadata": {}
  },
  {
   "cell_type": "code",
   "execution_count": 6,
   "source": [
    "\"\"\" 6. AMAZING! Let's try drawing cards again, but this time we'll pass in a {{deck_id}} so it works. \"\"\"\n",
    "create_response = runner.Root.create_shuffled_deck()\n",
    "deck_id = create_response.json().get(\"deck_id\")\n",
    "\n",
    "response = runner.Folder11.draw_cards({\"deck_id\": deck_id})\n",
    "print(\"STATUS CODE:\", response.status_code)\n",
    "print(response.json())"
   ],
   "outputs": [
    {
     "output_type": "display_data",
     "data": {
      "text/plain": [
       "STATUS CODE: \u001b[1;36m200\u001b[0m\n"
      ],
      "text/html": [
       "<pre style=\"white-space:pre;overflow-x:auto;line-height:normal;font-family:Menlo,'DejaVu Sans Mono',consolas,'Courier New',monospace\">STATUS CODE: <span style=\"color: #008080; text-decoration-color: #008080; font-weight: bold\">200</span>\n",
       "</pre>\n"
      ]
     },
     "metadata": {}
    },
    {
     "output_type": "display_data",
     "data": {
      "text/plain": [
       "\u001b[1m{\u001b[0m\n",
       "    \u001b[32m'success'\u001b[0m: \u001b[3;92mTrue\u001b[0m,\n",
       "    \u001b[32m'deck_id'\u001b[0m: \u001b[32m'5ec6p0z6z0ad'\u001b[0m,\n",
       "    \u001b[32m'cards'\u001b[0m: \u001b[1m[\u001b[0m\n",
       "        \u001b[1m{\u001b[0m\n",
       "            \u001b[32m'code'\u001b[0m: \u001b[32m'9H'\u001b[0m,\n",
       "            \u001b[32m'image'\u001b[0m: \u001b[32m'https://deckofcardsapi.com/static/img/9H.png'\u001b[0m,\n",
       "            \u001b[32m'images'\u001b[0m: \u001b[1m{\u001b[0m\n",
       "                \u001b[32m'svg'\u001b[0m: \u001b[32m'https://deckofcardsapi.com/static/img/9H.svg'\u001b[0m,\n",
       "                \u001b[32m'png'\u001b[0m: \u001b[32m'https://deckofcardsapi.com/static/img/9H.png'\u001b[0m\n",
       "            \u001b[1m}\u001b[0m,\n",
       "            \u001b[32m'value'\u001b[0m: \u001b[32m'9'\u001b[0m,\n",
       "            \u001b[32m'suit'\u001b[0m: \u001b[32m'HEARTS'\u001b[0m\n",
       "        \u001b[1m}\u001b[0m,\n",
       "        \u001b[1m{\u001b[0m\n",
       "            \u001b[32m'code'\u001b[0m: \u001b[32m'KD'\u001b[0m,\n",
       "            \u001b[32m'image'\u001b[0m: \u001b[32m'https://deckofcardsapi.com/static/img/KD.png'\u001b[0m,\n",
       "            \u001b[32m'images'\u001b[0m: \u001b[1m{\u001b[0m\n",
       "                \u001b[32m'svg'\u001b[0m: \u001b[32m'https://deckofcardsapi.com/static/img/KD.svg'\u001b[0m,\n",
       "                \u001b[32m'png'\u001b[0m: \u001b[32m'https://deckofcardsapi.com/static/img/KD.png'\u001b[0m\n",
       "            \u001b[1m}\u001b[0m,\n",
       "            \u001b[32m'value'\u001b[0m: \u001b[32m'KING'\u001b[0m,\n",
       "            \u001b[32m'suit'\u001b[0m: \u001b[32m'DIAMONDS'\u001b[0m\n",
       "        \u001b[1m}\u001b[0m\n",
       "    \u001b[1m]\u001b[0m,\n",
       "    \u001b[32m'remaining'\u001b[0m: \u001b[1;36m50\u001b[0m\n",
       "\u001b[1m}\u001b[0m\n"
      ],
      "text/html": [
       "<pre style=\"white-space:pre;overflow-x:auto;line-height:normal;font-family:Menlo,'DejaVu Sans Mono',consolas,'Courier New',monospace\"><span style=\"font-weight: bold\">{</span>\n",
       "    <span style=\"color: #008000; text-decoration-color: #008000\">'success'</span>: <span style=\"color: #00ff00; text-decoration-color: #00ff00; font-style: italic\">True</span>,\n",
       "    <span style=\"color: #008000; text-decoration-color: #008000\">'deck_id'</span>: <span style=\"color: #008000; text-decoration-color: #008000\">'5ec6p0z6z0ad'</span>,\n",
       "    <span style=\"color: #008000; text-decoration-color: #008000\">'cards'</span>: <span style=\"font-weight: bold\">[</span>\n",
       "        <span style=\"font-weight: bold\">{</span>\n",
       "            <span style=\"color: #008000; text-decoration-color: #008000\">'code'</span>: <span style=\"color: #008000; text-decoration-color: #008000\">'9H'</span>,\n",
       "            <span style=\"color: #008000; text-decoration-color: #008000\">'image'</span>: <span style=\"color: #008000; text-decoration-color: #008000\">'https://deckofcardsapi.com/static/img/9H.png'</span>,\n",
       "            <span style=\"color: #008000; text-decoration-color: #008000\">'images'</span>: <span style=\"font-weight: bold\">{</span>\n",
       "                <span style=\"color: #008000; text-decoration-color: #008000\">'svg'</span>: <span style=\"color: #008000; text-decoration-color: #008000\">'https://deckofcardsapi.com/static/img/9H.svg'</span>,\n",
       "                <span style=\"color: #008000; text-decoration-color: #008000\">'png'</span>: <span style=\"color: #008000; text-decoration-color: #008000\">'https://deckofcardsapi.com/static/img/9H.png'</span>\n",
       "            <span style=\"font-weight: bold\">}</span>,\n",
       "            <span style=\"color: #008000; text-decoration-color: #008000\">'value'</span>: <span style=\"color: #008000; text-decoration-color: #008000\">'9'</span>,\n",
       "            <span style=\"color: #008000; text-decoration-color: #008000\">'suit'</span>: <span style=\"color: #008000; text-decoration-color: #008000\">'HEARTS'</span>\n",
       "        <span style=\"font-weight: bold\">}</span>,\n",
       "        <span style=\"font-weight: bold\">{</span>\n",
       "            <span style=\"color: #008000; text-decoration-color: #008000\">'code'</span>: <span style=\"color: #008000; text-decoration-color: #008000\">'KD'</span>,\n",
       "            <span style=\"color: #008000; text-decoration-color: #008000\">'image'</span>: <span style=\"color: #008000; text-decoration-color: #008000\">'https://deckofcardsapi.com/static/img/KD.png'</span>,\n",
       "            <span style=\"color: #008000; text-decoration-color: #008000\">'images'</span>: <span style=\"font-weight: bold\">{</span>\n",
       "                <span style=\"color: #008000; text-decoration-color: #008000\">'svg'</span>: <span style=\"color: #008000; text-decoration-color: #008000\">'https://deckofcardsapi.com/static/img/KD.svg'</span>,\n",
       "                <span style=\"color: #008000; text-decoration-color: #008000\">'png'</span>: <span style=\"color: #008000; text-decoration-color: #008000\">'https://deckofcardsapi.com/static/img/KD.png'</span>\n",
       "            <span style=\"font-weight: bold\">}</span>,\n",
       "            <span style=\"color: #008000; text-decoration-color: #008000\">'value'</span>: <span style=\"color: #008000; text-decoration-color: #008000\">'KING'</span>,\n",
       "            <span style=\"color: #008000; text-decoration-color: #008000\">'suit'</span>: <span style=\"color: #008000; text-decoration-color: #008000\">'DIAMONDS'</span>\n",
       "        <span style=\"font-weight: bold\">}</span>\n",
       "    <span style=\"font-weight: bold\">]</span>,\n",
       "    <span style=\"color: #008000; text-decoration-color: #008000\">'remaining'</span>: <span style=\"color: #008080; text-decoration-color: #008080; font-weight: bold\">50</span>\n",
       "<span style=\"font-weight: bold\">}</span>\n",
       "</pre>\n"
      ]
     },
     "metadata": {}
    }
   ],
   "metadata": {}
  },
  {
   "cell_type": "code",
   "execution_count": 7,
   "source": [
    "\"\"\" 7. SUCCESS! If you wanted this to be an Automated Test with pytest, it would look something like this: \"\"\"\n",
    "def test_draw_cards():\n",
    "    runner = Postman(collection_path)\n",
    "    create_response = runner.Root.create_shuffled_deck()\n",
    "    deck_id = create_response.json().get(\"deck_id\")\n",
    "\n",
    "    # Pass in User Variables with a flat dictionary\n",
    "    response = runner.Folder11.draw_cards({\"deck_id\": deck_id})\n",
    "    body = response.json()\n",
    "\n",
    "    assert response.ok\n",
    "    assert body[\"success\"] is True\n",
    "    assert len(body[\"cards\"]) == 2, \"By default, two cards should be drawn\""
   ],
   "outputs": [],
   "metadata": {}
  },
  {
   "cell_type": "code",
   "execution_count": 8,
   "source": [
    "\"\"\" 8. Using your Environment and Global Variables.\n",
    "\n",
    "If your Variables are at the Environment and/or Global scope in Postman,\n",
    "then export them as files and pass in the file paths when instantiating the Postman runner.\n",
    "\n",
    "* In this cell's output, observe that there are 4 functions that use the {{USER_ID}} variable,\n",
    "    yet the value is None or empty.\n",
    "* We then see the Variables Dictionary and, sure enough, there are a lot of empty value fields.\n",
    "\"\"\"\n",
    "from tests import utils\n",
    "\n",
    "GLOBAL_PATH = utils.WORKSPACE_GLOBAL_VARIABLES_PATH\n",
    "ENV_PATH = utils.BOOKSTORE_ENV_VARIABLES_PATH\n",
    "COLLECTION_PATH = utils.build_example_path(utils.BOOKSTORE_PATH)\n",
    "\n",
    "user_variables = {\"USERNAME\": \"Carlos Kidman\"}\n",
    "runner = Postman(COLLECTION_PATH, ENV_PATH, GLOBAL_PATH, user_variables)\n",
    "runner.show_variables()"
   ],
   "outputs": [
    {
     "output_type": "stream",
     "name": "stderr",
     "text": [
      "https://demoqa.com/Account/v1/User/{{USER_ID}} => Variable USER_ID was found, but value was set to None or empty.\n",
      "https://demoqa.com/Account/v1/User/{{USER_ID}} => Variable USER_ID was found, but value was set to None or empty.\n",
      "https://demoqa.com/Account/v1/User/{{USER_ID}} => Variable USER_ID was found, but value was set to None or empty.\n",
      "https://demoqa.com/Account/v1/User/{{USER_ID}} => Variable USER_ID was found, but value was set to None or empty.\n"
     ]
    },
    {
     "output_type": "stream",
     "name": "stdout",
     "text": [
      "\n"
     ]
    },
    {
     "output_type": "display_data",
     "data": {
      "text/plain": [
       "\u001b[92m───────────────────── \u001b[0m\u001b[1;32mBook Store API instantiated with these Variables\u001b[0m\u001b[92m ──────────────────────\u001b[0m\n"
      ],
      "text/html": [
       "<pre style=\"white-space:pre;overflow-x:auto;line-height:normal;font-family:Menlo,'DejaVu Sans Mono',consolas,'Courier New',monospace\"><span style=\"color: #00ff00; text-decoration-color: #00ff00\">───────────────────── </span><span style=\"color: #008000; text-decoration-color: #008000; font-weight: bold\">Book Store API instantiated with these Variables</span><span style=\"color: #00ff00; text-decoration-color: #00ff00\"> ──────────────────────</span>\n",
       "</pre>\n"
      ]
     },
     "metadata": {}
    },
    {
     "output_type": "display_data",
     "data": {
      "text/plain": [
       "\u001b[1m{\u001b[0m\n",
       "    \u001b[32m'NAME'\u001b[0m: \u001b[1m{\u001b[0m\u001b[32m'value'\u001b[0m: \u001b[32m'CARLOS KIDMAN'\u001b[0m, \u001b[32m'enabled'\u001b[0m: \u001b[3;92mTrue\u001b[0m\u001b[1m}\u001b[0m,\n",
       "    \u001b[32m'BASE_URL'\u001b[0m: \u001b[1m{\u001b[0m\u001b[32m'value'\u001b[0m: \u001b[32m'https://demoqa.com'\u001b[0m, \u001b[32m'enabled'\u001b[0m: \u001b[3;92mTrue\u001b[0m\u001b[1m}\u001b[0m,\n",
       "    \u001b[32m'USER_ID'\u001b[0m: \u001b[1m{\u001b[0m\u001b[32m'value'\u001b[0m: \u001b[32m''\u001b[0m, \u001b[32m'enabled'\u001b[0m: \u001b[3;92mTrue\u001b[0m\u001b[1m}\u001b[0m,\n",
       "    \u001b[32m'USERNAME'\u001b[0m: \u001b[1m{\u001b[0m\u001b[32m'value'\u001b[0m: \u001b[32m'Carlos Kidman'\u001b[0m, \u001b[32m'enabled'\u001b[0m: \u001b[3;92mTrue\u001b[0m\u001b[1m}\u001b[0m,\n",
       "    \u001b[32m'PASSWORD'\u001b[0m: \u001b[1m{\u001b[0m\u001b[32m'value'\u001b[0m: \u001b[32m''\u001b[0m, \u001b[32m'enabled'\u001b[0m: \u001b[3;92mTrue\u001b[0m\u001b[1m}\u001b[0m,\n",
       "    \u001b[32m'TOKEN'\u001b[0m: \u001b[1m{\u001b[0m\u001b[32m'value'\u001b[0m: \u001b[32m''\u001b[0m, \u001b[32m'enabled'\u001b[0m: \u001b[3;92mTrue\u001b[0m\u001b[1m}\u001b[0m\n",
       "\u001b[1m}\u001b[0m\n"
      ],
      "text/html": [
       "<pre style=\"white-space:pre;overflow-x:auto;line-height:normal;font-family:Menlo,'DejaVu Sans Mono',consolas,'Courier New',monospace\"><span style=\"font-weight: bold\">{</span>\n",
       "    <span style=\"color: #008000; text-decoration-color: #008000\">'NAME'</span>: <span style=\"font-weight: bold\">{</span><span style=\"color: #008000; text-decoration-color: #008000\">'value'</span>: <span style=\"color: #008000; text-decoration-color: #008000\">'CARLOS KIDMAN'</span>, <span style=\"color: #008000; text-decoration-color: #008000\">'enabled'</span>: <span style=\"color: #00ff00; text-decoration-color: #00ff00; font-style: italic\">True</span><span style=\"font-weight: bold\">}</span>,\n",
       "    <span style=\"color: #008000; text-decoration-color: #008000\">'BASE_URL'</span>: <span style=\"font-weight: bold\">{</span><span style=\"color: #008000; text-decoration-color: #008000\">'value'</span>: <span style=\"color: #008000; text-decoration-color: #008000\">'https://demoqa.com'</span>, <span style=\"color: #008000; text-decoration-color: #008000\">'enabled'</span>: <span style=\"color: #00ff00; text-decoration-color: #00ff00; font-style: italic\">True</span><span style=\"font-weight: bold\">}</span>,\n",
       "    <span style=\"color: #008000; text-decoration-color: #008000\">'USER_ID'</span>: <span style=\"font-weight: bold\">{</span><span style=\"color: #008000; text-decoration-color: #008000\">'value'</span>: <span style=\"color: #008000; text-decoration-color: #008000\">''</span>, <span style=\"color: #008000; text-decoration-color: #008000\">'enabled'</span>: <span style=\"color: #00ff00; text-decoration-color: #00ff00; font-style: italic\">True</span><span style=\"font-weight: bold\">}</span>,\n",
       "    <span style=\"color: #008000; text-decoration-color: #008000\">'USERNAME'</span>: <span style=\"font-weight: bold\">{</span><span style=\"color: #008000; text-decoration-color: #008000\">'value'</span>: <span style=\"color: #008000; text-decoration-color: #008000\">'Carlos Kidman'</span>, <span style=\"color: #008000; text-decoration-color: #008000\">'enabled'</span>: <span style=\"color: #00ff00; text-decoration-color: #00ff00; font-style: italic\">True</span><span style=\"font-weight: bold\">}</span>,\n",
       "    <span style=\"color: #008000; text-decoration-color: #008000\">'PASSWORD'</span>: <span style=\"font-weight: bold\">{</span><span style=\"color: #008000; text-decoration-color: #008000\">'value'</span>: <span style=\"color: #008000; text-decoration-color: #008000\">''</span>, <span style=\"color: #008000; text-decoration-color: #008000\">'enabled'</span>: <span style=\"color: #00ff00; text-decoration-color: #00ff00; font-style: italic\">True</span><span style=\"font-weight: bold\">}</span>,\n",
       "    <span style=\"color: #008000; text-decoration-color: #008000\">'TOKEN'</span>: <span style=\"font-weight: bold\">{</span><span style=\"color: #008000; text-decoration-color: #008000\">'value'</span>: <span style=\"color: #008000; text-decoration-color: #008000\">''</span>, <span style=\"color: #008000; text-decoration-color: #008000\">'enabled'</span>: <span style=\"color: #00ff00; text-decoration-color: #00ff00; font-style: italic\">True</span><span style=\"font-weight: bold\">}</span>\n",
       "<span style=\"font-weight: bold\">}</span>\n",
       "</pre>\n"
      ]
     },
     "metadata": {}
    }
   ],
   "metadata": {}
  },
  {
   "cell_type": "markdown",
   "source": [
    "# Postman Variables\n",
    "\n",
    "It's important to understand when, where and how to use Postman's Variables. It'll make your automation much easier to work with.\n",
    "\n",
    "## Order of Operations\n",
    "\n",
    "When working with PyClinic, there are 4 levels of scopes that will override each other if there are matching Variables:\n",
    "\n",
    "1. Global\n",
    "2. Environment\n",
    "3. Collection\n",
    "4. User\n",
    "\n",
    "In the above order, each scope's Variables are loaded and override any matching keys that exist.\n",
    "\n",
    "For example, if Global and Environment both have a USERNAME Variable, then the Environment Scope's value will win.\n",
    "That means that any User Variables will ultimately win and have their values be set.\n",
    "\n",
    "* NOTE: Only matching values are overriden. Otherwise, the Variables dictionary is just updated with the new key-value pairs."
   ],
   "metadata": {}
  },
  {
   "cell_type": "code",
   "execution_count": 9,
   "source": [
    "\"\"\" 9. Create your own service functions.\n",
    "\n",
    "Although PyClinic aims to bootstrap your Project for automation and test automation,\n",
    "you will most likely need to create your own service functions for more control and power.\n",
    "\n",
    "The requests library that PyClinic uses is wonderful for this!\n",
    "You should already have this info in Postman, and help from API docs and your team,\n",
    "but you can also get help from PyClinic.\n",
    "\"\"\"\n",
    "# What if we wanted to change the number of decks that are created (maybe to 3 or n)?\n",
    "# We can use the .help() method on the function to get more info.\n",
    "\n",
    "runner = Postman(collection_path)\n",
    "runner.Root.create_shuffled_deck.help()"
   ],
   "outputs": [
    {
     "output_type": "stream",
     "name": "stderr",
     "text": [
      "http://deckofcardsapi.com/api/deck/{{deck_id}}/shuffle/ => Variable deck_id not found in collection, environment, or global variables.\n",
      "http://deckofcardsapi.com/api/deck/{{deck_id}}/draw/?count=2 => Variable deck_id not found in collection, environment, or global variables.\n",
      "http://deckofcardsapi.com/api/deck/{{deck_id}}/draw/?count=2 => Variable deck_id not found in collection, environment, or global variables.\n",
      "http://deckofcardsapi.com/api/deck/{{deck_id}}/shuffle/ => Variable deck_id not found in collection, environment, or global variables.\n",
      "http://deckofcardsapi.com/api/deck/{{deck_id}}/pile/{{pile_name}}/list/ => Variable deck_id not found in collection, environment, or global variables.\n",
      "http://deckofcardsapi.com/api/deck/{{deck_id}}/pile/{{pile_name}}/list/ => Variable pile_name not found in collection, environment, or global variables.\n",
      "http://deckofcardsapi.com/api/deck/{{deck_id}}/pile/{{pile_name}}/list/ => Variable deck_id not found in collection, environment, or global variables.\n",
      "http://deckofcardsapi.com/api/deck/{{deck_id}}/pile/{{pile_name}}/list/ => Variable pile_name not found in collection, environment, or global variables.\n"
     ]
    },
    {
     "output_type": "stream",
     "name": "stdout",
     "text": [
      "\n"
     ]
    },
    {
     "output_type": "display_data",
     "data": {
      "text/plain": [
       "\u001b[92m──────────────────────── \u001b[0m\u001b[1;32mRequest Dictionary for create_shuffled_deck\u001b[0m\u001b[92m ────────────────────────\u001b[0m\n"
      ],
      "text/html": [
       "<pre style=\"white-space:pre;overflow-x:auto;line-height:normal;font-family:Menlo,'DejaVu Sans Mono',consolas,'Courier New',monospace\"><span style=\"color: #00ff00; text-decoration-color: #00ff00\">──────────────────────── </span><span style=\"color: #008000; text-decoration-color: #008000; font-weight: bold\">Request Dictionary for create_shuffled_deck</span><span style=\"color: #00ff00; text-decoration-color: #00ff00\"> ────────────────────────</span>\n",
       "</pre>\n"
      ]
     },
     "metadata": {}
    },
    {
     "output_type": "display_data",
     "data": {
      "text/plain": [
       "\u001b[1m{\u001b[0m\n",
       "    \u001b[32m'method'\u001b[0m: \u001b[32m'GET'\u001b[0m,\n",
       "    \u001b[32m'url'\u001b[0m: \u001b[32m'http://deckofcardsapi.com/api/deck/new/shuffle/?\u001b[0m\u001b[32mdeck_count\u001b[0m\u001b[32m=\u001b[0m\u001b[32m1\u001b[0m\u001b[32m'\u001b[0m,\n",
       "    \u001b[32m'headers'\u001b[0m: \u001b[1m{\u001b[0m\u001b[1m}\u001b[0m\n",
       "\u001b[1m}\u001b[0m\n"
      ],
      "text/html": [
       "<pre style=\"white-space:pre;overflow-x:auto;line-height:normal;font-family:Menlo,'DejaVu Sans Mono',consolas,'Courier New',monospace\"><span style=\"font-weight: bold\">{</span>\n",
       "    <span style=\"color: #008000; text-decoration-color: #008000\">'method'</span>: <span style=\"color: #008000; text-decoration-color: #008000\">'GET'</span>,\n",
       "    <span style=\"color: #008000; text-decoration-color: #008000\">'url'</span>: <span style=\"color: #008000; text-decoration-color: #008000\">'http://deckofcardsapi.com/api/deck/new/shuffle/?deck_count=1'</span>,\n",
       "    <span style=\"color: #008000; text-decoration-color: #008000\">'headers'</span>: <span style=\"font-weight: bold\">{}</span>\n",
       "<span style=\"font-weight: bold\">}</span>\n",
       "</pre>\n"
      ]
     },
     "metadata": {}
    }
   ],
   "metadata": {}
  },
  {
   "cell_type": "code",
   "execution_count": 10,
   "source": [
    "\"\"\" 10. Write a function using the info we have.\n",
    "\n",
    "Looking at the info above, there's really only two pieces we need:\n",
    "    - The URL\n",
    "    - The HTTP Method\n",
    "\"\"\"\n",
    "import requests\n",
    "\n",
    "def create_decks(count=1):\n",
    "    method = \"GET\"\n",
    "    url = f\"http://deckofcardsapi.com/api/deck/new/shuffle/?deck_count={count}\"\n",
    "    response = requests.request(method, url)\n",
    "    return response.json()\n",
    "\n",
    "# Instead of 52 cards for a single deck, we should now have 3 decks with 156 cards total\n",
    "print(create_decks(3))"
   ],
   "outputs": [
    {
     "output_type": "display_data",
     "data": {
      "text/plain": [
       "\u001b[1m{\u001b[0m\u001b[32m'success'\u001b[0m: \u001b[3;92mTrue\u001b[0m, \u001b[32m'deck_id'\u001b[0m: \u001b[32m'b5lge31fdotb'\u001b[0m, \u001b[32m'remaining'\u001b[0m: \u001b[1;36m156\u001b[0m, \u001b[32m'shuffled'\u001b[0m: \u001b[3;92mTrue\u001b[0m\u001b[1m}\u001b[0m\n"
      ],
      "text/html": [
       "<pre style=\"white-space:pre;overflow-x:auto;line-height:normal;font-family:Menlo,'DejaVu Sans Mono',consolas,'Courier New',monospace\"><span style=\"font-weight: bold\">{</span><span style=\"color: #008000; text-decoration-color: #008000\">'success'</span>: <span style=\"color: #00ff00; text-decoration-color: #00ff00; font-style: italic\">True</span>, <span style=\"color: #008000; text-decoration-color: #008000\">'deck_id'</span>: <span style=\"color: #008000; text-decoration-color: #008000\">'b5lge31fdotb'</span>, <span style=\"color: #008000; text-decoration-color: #008000\">'remaining'</span>: <span style=\"color: #008080; text-decoration-color: #008080; font-weight: bold\">156</span>, <span style=\"color: #008000; text-decoration-color: #008000\">'shuffled'</span>: <span style=\"color: #00ff00; text-decoration-color: #00ff00; font-style: italic\">True</span><span style=\"font-weight: bold\">}</span>\n",
       "</pre>\n"
      ]
     },
     "metadata": {}
    }
   ],
   "metadata": {}
  }
 ],
 "metadata": {
  "orig_nbformat": 4,
  "language_info": {
   "name": "python",
   "version": "3.9.1",
   "mimetype": "text/x-python",
   "codemirror_mode": {
    "name": "ipython",
    "version": 3
   },
   "pygments_lexer": "ipython3",
   "nbconvert_exporter": "python",
   "file_extension": ".py"
  },
  "kernelspec": {
   "name": "python3",
   "display_name": "Python 3.9.1 64-bit ('pyclinic-InKJn0l_-py3.9': poetry)"
  },
  "interpreter": {
   "hash": "dad341938d7c6fd83781c9ec84ca545ddf62307cc98c65e84dffc8916bb6fd08"
  }
 },
 "nbformat": 4,
 "nbformat_minor": 2
}